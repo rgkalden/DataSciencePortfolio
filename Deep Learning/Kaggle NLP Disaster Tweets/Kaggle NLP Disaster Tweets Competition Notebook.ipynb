{
 "cells": [
  {
   "cell_type": "markdown",
   "metadata": {},
   "source": [
    "# Kaggle Competition: Natural Language Processing with Disaster Tweets\n",
    "\n",
    "https://www.kaggle.com/c/nlp-getting-started/overview\n",
    "\n",
    "Submission notebook by Richard Kaldenhoven\n",
    "\n",
    "Version 1: March 2, 2021\n"
   ]
  },
  {
   "cell_type": "markdown",
   "metadata": {},
   "source": [
    "## 1. Problem Description\n",
    "\n",
    "\"Natural Language Processing with Disaster Tweets\" is a Getting Started competition on Kaggle where the goal is to build a machine learning model that can predict whether a tweet is about a natural disaster or not.\n",
    "\n",
    "For the purposes of this competition, data for approximately 10000 tweets is provided. The data is split into two sets: a training set and a test set. The training set contains the tweet id, keyword, location, the tweet text, and a label for whether the tweet is about a disaster or not. The test set contains the same information except for labels as it is meant to be fed to a completed machine learning model that generates the labels, or predictions, for each tweet. The predictions that the completed machine learning model generates are submitted to Kaggle for evaluation (see Section 2) and scoring."
   ]
  },
  {
   "cell_type": "markdown",
   "metadata": {},
   "source": [
    "## 2. Choosing a Measure of Success\n",
    "\n",
    "The tweets in the dataset used for this problem are labelled \"1\" if they are about a natural disaster, and \"0\" if they are not, making it a binary classification problem. For this competition, Kaggle has set the measure of success of machine learning models to be the F1 score, which is defined mathematically as:\n",
    "\n",
    "$$\n",
    "F1 = 2 * \\frac{precision * recall}{precision + recall}\n",
    "$$\n",
    "\n",
    "Where:\n",
    "\n",
    "$$\n",
    "precision = \\frac{TP}{TP + FP} \\\\\n",
    "recall = \\frac{TP}{TP + FN}\n",
    "$$\n",
    "\n",
    "and\n",
    "\n",
    "$$\n",
    "TP = true\\ positive \\\\\n",
    "FP = false\\ positive \\\\\n",
    "FN = false\\ negative \\\\\n",
    "$$\n",
    "\n",
    "The F1 score is used in classification problems as a measure of the machine learning model's prediction accuracy, and is the harmonic mean of the precision and recall, two other classification metrics. The F1 score is a value between 0 and 1, with a value of 1 indicating perfect precision and recall. Precision and recall are similar performance metrics that should both be considered, and by combining them into the F1 score, a simpler single value performance metric is obtained.\n",
    "\n",
    "The meaning of precision and recall can be better understood by examining the mathematical definitions provided above. Precision is a measure of the proportion of positive predictions (TP) that are actually correct (TP + FP is the sum of all positive predictions). Recall is a measure of the proportion of actual positive predictions (TP) that are made correctly (TP + FN is the sum of actual positives). Both precision and recall are values between 0 and 1."
   ]
  },
  {
   "cell_type": "markdown",
   "metadata": {},
   "source": [
    "## 3. Evaluation Protocol\n",
    "\n",
    "Reaching an ideal model configuration will require experimentation, so to evaluate the performance of machine learning models that will be developed a validation set will be created from the training data set provided by Kaggle, after the training set has been randomly shuffled. The Keras deep learning framework will be used to build models, and during training the accuracy will be monitored. The accuracy is not the measure of success for this problem, but for technical reasons with how Keras monitors performance during model training it will be used for simplicity as a general indication of performance to guide model development. Once model training is complete, the F1 score wil be calculated on the validation set to evaluate performance.\n",
    "\n",
    "Once a final model configuration has been found, it will be re-trained on the complete training set, predictions will be made on the test set, and then the predictions will be submitted to Kaggle for evaluation."
   ]
  },
  {
   "cell_type": "markdown",
   "metadata": {},
   "source": [
    "## 4. Data Preparation\n",
    "\n",
    "The data must be prepared before using in a machine learning model. A recurrent neural network (RNN) using Long Short Term Memory (LSTM) units will be developed, so the tweet data must be transformed from text into numbers, a process called vectorization. The following sections cover data analysis, cleaning, and finally vectorization."
   ]
  },
  {
   "cell_type": "markdown",
   "metadata": {},
   "source": [
    "### 4.1 Training Data Analysis and Cleaning\n",
    "\n",
    "To start, the training data is loaded into a Pandas DataFrame:"
   ]
  },
  {
   "cell_type": "code",
   "execution_count": 1,
   "metadata": {},
   "outputs": [],
   "source": [
    "import numpy as np\n",
    "import pandas as pd\n",
    "import matplotlib.pyplot as plt\n",
    "import seaborn as sns\n",
    "\n",
    "%matplotlib inline\n",
    "\n",
    "pd.options.display.max_colwidth = 160"
   ]
  },
  {
   "cell_type": "code",
   "execution_count": 2,
   "metadata": {},
   "outputs": [],
   "source": [
    "train_tweets = pd.read_csv('train.csv', index_col='id')"
   ]
  },
  {
   "cell_type": "code",
   "execution_count": 3,
   "metadata": {},
   "outputs": [
    {
     "data": {
      "text/html": [
       "<div>\n",
       "<style scoped>\n",
       "    .dataframe tbody tr th:only-of-type {\n",
       "        vertical-align: middle;\n",
       "    }\n",
       "\n",
       "    .dataframe tbody tr th {\n",
       "        vertical-align: top;\n",
       "    }\n",
       "\n",
       "    .dataframe thead th {\n",
       "        text-align: right;\n",
       "    }\n",
       "</style>\n",
       "<table border=\"1\" class=\"dataframe\">\n",
       "  <thead>\n",
       "    <tr style=\"text-align: right;\">\n",
       "      <th></th>\n",
       "      <th>keyword</th>\n",
       "      <th>location</th>\n",
       "      <th>text</th>\n",
       "      <th>target</th>\n",
       "    </tr>\n",
       "    <tr>\n",
       "      <th>id</th>\n",
       "      <th></th>\n",
       "      <th></th>\n",
       "      <th></th>\n",
       "      <th></th>\n",
       "    </tr>\n",
       "  </thead>\n",
       "  <tbody>\n",
       "    <tr>\n",
       "      <th>1</th>\n",
       "      <td>NaN</td>\n",
       "      <td>NaN</td>\n",
       "      <td>Our Deeds are the Reason of this #earthquake May ALLAH Forgive us all</td>\n",
       "      <td>1</td>\n",
       "    </tr>\n",
       "    <tr>\n",
       "      <th>4</th>\n",
       "      <td>NaN</td>\n",
       "      <td>NaN</td>\n",
       "      <td>Forest fire near La Ronge Sask. Canada</td>\n",
       "      <td>1</td>\n",
       "    </tr>\n",
       "    <tr>\n",
       "      <th>5</th>\n",
       "      <td>NaN</td>\n",
       "      <td>NaN</td>\n",
       "      <td>All residents asked to 'shelter in place' are being notified by officers. No other evacuation or shelter in place orders are expected</td>\n",
       "      <td>1</td>\n",
       "    </tr>\n",
       "    <tr>\n",
       "      <th>6</th>\n",
       "      <td>NaN</td>\n",
       "      <td>NaN</td>\n",
       "      <td>13,000 people receive #wildfires evacuation orders in California</td>\n",
       "      <td>1</td>\n",
       "    </tr>\n",
       "    <tr>\n",
       "      <th>7</th>\n",
       "      <td>NaN</td>\n",
       "      <td>NaN</td>\n",
       "      <td>Just got sent this photo from Ruby #Alaska as smoke from #wildfires pours into a school</td>\n",
       "      <td>1</td>\n",
       "    </tr>\n",
       "    <tr>\n",
       "      <th>...</th>\n",
       "      <td>...</td>\n",
       "      <td>...</td>\n",
       "      <td>...</td>\n",
       "      <td>...</td>\n",
       "    </tr>\n",
       "    <tr>\n",
       "      <th>10869</th>\n",
       "      <td>NaN</td>\n",
       "      <td>NaN</td>\n",
       "      <td>Two giant cranes holding a bridge collapse into nearby homes http://t.co/STfMbbZFB5</td>\n",
       "      <td>1</td>\n",
       "    </tr>\n",
       "    <tr>\n",
       "      <th>10870</th>\n",
       "      <td>NaN</td>\n",
       "      <td>NaN</td>\n",
       "      <td>@aria_ahrary @TheTawniest The out of control wild fires in California even in the Northern part of the state. Very troubling.</td>\n",
       "      <td>1</td>\n",
       "    </tr>\n",
       "    <tr>\n",
       "      <th>10871</th>\n",
       "      <td>NaN</td>\n",
       "      <td>NaN</td>\n",
       "      <td>M1.94 [01:04 UTC]?5km S of Volcano Hawaii. http://t.co/zDtoyd8EbJ</td>\n",
       "      <td>1</td>\n",
       "    </tr>\n",
       "    <tr>\n",
       "      <th>10872</th>\n",
       "      <td>NaN</td>\n",
       "      <td>NaN</td>\n",
       "      <td>Police investigating after an e-bike collided with a car in Little Portugal. E-bike rider suffered serious non-life threatening injuries.</td>\n",
       "      <td>1</td>\n",
       "    </tr>\n",
       "    <tr>\n",
       "      <th>10873</th>\n",
       "      <td>NaN</td>\n",
       "      <td>NaN</td>\n",
       "      <td>The Latest: More Homes Razed by Northern California Wildfire - ABC News http://t.co/YmY4rSkQ3d</td>\n",
       "      <td>1</td>\n",
       "    </tr>\n",
       "  </tbody>\n",
       "</table>\n",
       "<p>7613 rows × 4 columns</p>\n",
       "</div>"
      ],
      "text/plain": [
       "      keyword location  \\\n",
       "id                       \n",
       "1         NaN      NaN   \n",
       "4         NaN      NaN   \n",
       "5         NaN      NaN   \n",
       "6         NaN      NaN   \n",
       "7         NaN      NaN   \n",
       "...       ...      ...   \n",
       "10869     NaN      NaN   \n",
       "10870     NaN      NaN   \n",
       "10871     NaN      NaN   \n",
       "10872     NaN      NaN   \n",
       "10873     NaN      NaN   \n",
       "\n",
       "                                                                                                                                            text  \\\n",
       "id                                                                                                                                                 \n",
       "1                                                                          Our Deeds are the Reason of this #earthquake May ALLAH Forgive us all   \n",
       "4                                                                                                         Forest fire near La Ronge Sask. Canada   \n",
       "5          All residents asked to 'shelter in place' are being notified by officers. No other evacuation or shelter in place orders are expected   \n",
       "6                                                                              13,000 people receive #wildfires evacuation orders in California    \n",
       "7                                                       Just got sent this photo from Ruby #Alaska as smoke from #wildfires pours into a school    \n",
       "...                                                                                                                                          ...   \n",
       "10869                                                        Two giant cranes holding a bridge collapse into nearby homes http://t.co/STfMbbZFB5   \n",
       "10870              @aria_ahrary @TheTawniest The out of control wild fires in California even in the Northern part of the state. Very troubling.   \n",
       "10871                                                                          M1.94 [01:04 UTC]?5km S of Volcano Hawaii. http://t.co/zDtoyd8EbJ   \n",
       "10872  Police investigating after an e-bike collided with a car in Little Portugal. E-bike rider suffered serious non-life threatening injuries.   \n",
       "10873                                             The Latest: More Homes Razed by Northern California Wildfire - ABC News http://t.co/YmY4rSkQ3d   \n",
       "\n",
       "       target  \n",
       "id             \n",
       "1           1  \n",
       "4           1  \n",
       "5           1  \n",
       "6           1  \n",
       "7           1  \n",
       "...       ...  \n",
       "10869       1  \n",
       "10870       1  \n",
       "10871       1  \n",
       "10872       1  \n",
       "10873       1  \n",
       "\n",
       "[7613 rows x 4 columns]"
      ]
     },
     "execution_count": 3,
     "metadata": {},
     "output_type": "execute_result"
    }
   ],
   "source": [
    "train_tweets"
   ]
  },
  {
   "cell_type": "code",
   "execution_count": 4,
   "metadata": {},
   "outputs": [
    {
     "name": "stdout",
     "output_type": "stream",
     "text": [
      "<class 'pandas.core.frame.DataFrame'>\n",
      "Int64Index: 7613 entries, 1 to 10873\n",
      "Data columns (total 4 columns):\n",
      " #   Column    Non-Null Count  Dtype \n",
      "---  ------    --------------  ----- \n",
      " 0   keyword   7552 non-null   object\n",
      " 1   location  5080 non-null   object\n",
      " 2   text      7613 non-null   object\n",
      " 3   target    7613 non-null   int64 \n",
      "dtypes: int64(1), object(3)\n",
      "memory usage: 297.4+ KB\n"
     ]
    }
   ],
   "source": [
    "train_tweets.info()"
   ]
  },
  {
   "cell_type": "markdown",
   "metadata": {},
   "source": [
    "It appears that every tweet has a `text` value and a `target` label, as expected. There are many tweets that have missing `keyword` or `location` values. The `keyword` and `location` values will not be used, so the missing values are not an issue."
   ]
  },
  {
   "cell_type": "code",
   "execution_count": 5,
   "metadata": {},
   "outputs": [
    {
     "data": {
      "text/plain": [
       "0    4342\n",
       "1    3271\n",
       "Name: target, dtype: int64"
      ]
     },
     "execution_count": 5,
     "metadata": {},
     "output_type": "execute_result"
    }
   ],
   "source": [
    "train_tweets['target'].value_counts()"
   ]
  },
  {
   "cell_type": "code",
   "execution_count": 6,
   "metadata": {},
   "outputs": [
    {
     "name": "stdout",
     "output_type": "stream",
     "text": [
      "Total training tweets:  7613\n",
      "% of tweets not about a real disaster (Class 0):  57.0\n",
      "% of tweets about a real disaster (Class 1):  43.0\n"
     ]
    }
   ],
   "source": [
    "total_train_tweet_count = len(train_tweets)\n",
    "train_no_disaster_count = train_tweets[train_tweets['target'] == 0]['text'].count()\n",
    "train_yes_disaster_count = total_train_tweet_count - train_no_disaster_count\n",
    "\n",
    "print('Total training tweets: ', total_train_tweet_count)\n",
    "print('% of tweets not about a real disaster (Class 0): ', round(train_no_disaster_count / total_train_tweet_count * 100, 1))\n",
    "print('% of tweets about a real disaster (Class 1): ', round(train_yes_disaster_count / total_train_tweet_count * 100, 1))"
   ]
  },
  {
   "cell_type": "markdown",
   "metadata": {},
   "source": [
    "The distribution of tweet classes is not equal: 57% are about real disasters, 43% are not. An unequal distribution of classes makes the F1 score a good measure of success since it takes into account both classes through the precision and recall, rather than accuracy, which can be skewed towards the dominant class.\n",
    "\n",
    "The next step is to analyze the number of words in each tweet by creating a new DataFrame column `text_length`:"
   ]
  },
  {
   "cell_type": "code",
   "execution_count": 7,
   "metadata": {},
   "outputs": [
    {
     "data": {
      "text/html": [
       "<div>\n",
       "<style scoped>\n",
       "    .dataframe tbody tr th:only-of-type {\n",
       "        vertical-align: middle;\n",
       "    }\n",
       "\n",
       "    .dataframe tbody tr th {\n",
       "        vertical-align: top;\n",
       "    }\n",
       "\n",
       "    .dataframe thead th {\n",
       "        text-align: right;\n",
       "    }\n",
       "</style>\n",
       "<table border=\"1\" class=\"dataframe\">\n",
       "  <thead>\n",
       "    <tr style=\"text-align: right;\">\n",
       "      <th></th>\n",
       "      <th>keyword</th>\n",
       "      <th>location</th>\n",
       "      <th>text</th>\n",
       "      <th>target</th>\n",
       "      <th>text_length</th>\n",
       "    </tr>\n",
       "    <tr>\n",
       "      <th>id</th>\n",
       "      <th></th>\n",
       "      <th></th>\n",
       "      <th></th>\n",
       "      <th></th>\n",
       "      <th></th>\n",
       "    </tr>\n",
       "  </thead>\n",
       "  <tbody>\n",
       "    <tr>\n",
       "      <th>1</th>\n",
       "      <td>NaN</td>\n",
       "      <td>NaN</td>\n",
       "      <td>Our Deeds are the Reason of this #earthquake May ALLAH Forgive us all</td>\n",
       "      <td>1</td>\n",
       "      <td>13</td>\n",
       "    </tr>\n",
       "    <tr>\n",
       "      <th>4</th>\n",
       "      <td>NaN</td>\n",
       "      <td>NaN</td>\n",
       "      <td>Forest fire near La Ronge Sask. Canada</td>\n",
       "      <td>1</td>\n",
       "      <td>7</td>\n",
       "    </tr>\n",
       "    <tr>\n",
       "      <th>5</th>\n",
       "      <td>NaN</td>\n",
       "      <td>NaN</td>\n",
       "      <td>All residents asked to 'shelter in place' are being notified by officers. No other evacuation or shelter in place orders are expected</td>\n",
       "      <td>1</td>\n",
       "      <td>22</td>\n",
       "    </tr>\n",
       "    <tr>\n",
       "      <th>6</th>\n",
       "      <td>NaN</td>\n",
       "      <td>NaN</td>\n",
       "      <td>13,000 people receive #wildfires evacuation orders in California</td>\n",
       "      <td>1</td>\n",
       "      <td>8</td>\n",
       "    </tr>\n",
       "    <tr>\n",
       "      <th>7</th>\n",
       "      <td>NaN</td>\n",
       "      <td>NaN</td>\n",
       "      <td>Just got sent this photo from Ruby #Alaska as smoke from #wildfires pours into a school</td>\n",
       "      <td>1</td>\n",
       "      <td>16</td>\n",
       "    </tr>\n",
       "  </tbody>\n",
       "</table>\n",
       "</div>"
      ],
      "text/plain": [
       "   keyword location  \\\n",
       "id                    \n",
       "1      NaN      NaN   \n",
       "4      NaN      NaN   \n",
       "5      NaN      NaN   \n",
       "6      NaN      NaN   \n",
       "7      NaN      NaN   \n",
       "\n",
       "                                                                                                                                     text  \\\n",
       "id                                                                                                                                          \n",
       "1                                                                   Our Deeds are the Reason of this #earthquake May ALLAH Forgive us all   \n",
       "4                                                                                                  Forest fire near La Ronge Sask. Canada   \n",
       "5   All residents asked to 'shelter in place' are being notified by officers. No other evacuation or shelter in place orders are expected   \n",
       "6                                                                       13,000 people receive #wildfires evacuation orders in California    \n",
       "7                                                Just got sent this photo from Ruby #Alaska as smoke from #wildfires pours into a school    \n",
       "\n",
       "    target  text_length  \n",
       "id                       \n",
       "1        1           13  \n",
       "4        1            7  \n",
       "5        1           22  \n",
       "6        1            8  \n",
       "7        1           16  "
      ]
     },
     "execution_count": 7,
     "metadata": {},
     "output_type": "execute_result"
    }
   ],
   "source": [
    "train_tweets['text_length'] = train_tweets['text'].str.split().str.len()\n",
    "train_tweets.head()"
   ]
  },
  {
   "cell_type": "code",
   "execution_count": 8,
   "metadata": {},
   "outputs": [
    {
     "data": {
      "text/plain": [
       "count    7613.000000\n",
       "mean       14.903586\n",
       "std         5.732604\n",
       "min         1.000000\n",
       "25%        11.000000\n",
       "50%        15.000000\n",
       "75%        19.000000\n",
       "max        31.000000\n",
       "Name: text_length, dtype: float64"
      ]
     },
     "execution_count": 8,
     "metadata": {},
     "output_type": "execute_result"
    }
   ],
   "source": [
    "train_tweets['text_length'].describe()"
   ]
  },
  {
   "cell_type": "code",
   "execution_count": 9,
   "metadata": {},
   "outputs": [
    {
     "data": {
      "image/png": "[encoded data removed]",
      "text/plain": [
       "<Figure size 432x288 with 1 Axes>"
      ]
     },
     "metadata": {
      "needs_background": "light"
     },
     "output_type": "display_data"
    }
   ],
   "source": [
    "plt.figure()\n",
    "sns.distplot(train_tweets['text_length'], kde=False, bins=30)\n",
    "plt.title('Distribution of tweet lengths in the training dataset')\n",
    "plt.xlabel('Tweet length (number of words)')\n",
    "plt.ylabel('Count');"
   ]
  },
  {
   "cell_type": "code",
   "execution_count": 10,
   "metadata": {},
   "outputs": [
    {
     "data": {
      "text/plain": [
       "0    11\n",
       "dtype: int64"
      ]
     },
     "execution_count": 10,
     "metadata": {},
     "output_type": "execute_result"
    }
   ],
   "source": [
    "train_tweets['text_length'].mode()"
   ]
  },
  {
   "cell_type": "markdown",
   "metadata": {},
   "source": [
    "For the training set, the average `text_length` is about 15 words, the max is 31 words, and the mode is 11 words. The distributions of tweet lengths for the training set will be compared later with that of the test set, to check that they are similar and ensure that the model that is developed will generalize well to the test set.\n",
    "\n",
    "Next, duplicate tweets are checked for and removed if found. A duplicate tweet has the same `text` and `target` values."
   ]
  },
  {
   "cell_type": "code",
   "execution_count": 11,
   "metadata": {},
   "outputs": [
    {
     "data": {
      "text/html": [
       "<div>\n",
       "<style scoped>\n",
       "    .dataframe tbody tr th:only-of-type {\n",
       "        vertical-align: middle;\n",
       "    }\n",
       "\n",
       "    .dataframe tbody tr th {\n",
       "        vertical-align: top;\n",
       "    }\n",
       "\n",
       "    .dataframe thead th {\n",
       "        text-align: right;\n",
       "    }\n",
       "</style>\n",
       "<table border=\"1\" class=\"dataframe\">\n",
       "  <thead>\n",
       "    <tr style=\"text-align: right;\">\n",
       "      <th></th>\n",
       "      <th>keyword</th>\n",
       "      <th>location</th>\n",
       "      <th>text</th>\n",
       "      <th>target</th>\n",
       "      <th>text_length</th>\n",
       "    </tr>\n",
       "    <tr>\n",
       "      <th>id</th>\n",
       "      <th></th>\n",
       "      <th></th>\n",
       "      <th></th>\n",
       "      <th></th>\n",
       "      <th></th>\n",
       "    </tr>\n",
       "  </thead>\n",
       "  <tbody>\n",
       "    <tr>\n",
       "      <th>59</th>\n",
       "      <td>ablaze</td>\n",
       "      <td>Live On Webcam</td>\n",
       "      <td>Check these out: http://t.co/rOI2NSmEJJ http://t.co/3Tj8ZjiN21 http://t.co/YDUiXEfIpE http://t.co/LxTjc87KLS #nsfw</td>\n",
       "      <td>0</td>\n",
       "      <td>8</td>\n",
       "    </tr>\n",
       "    <tr>\n",
       "      <th>68</th>\n",
       "      <td>ablaze</td>\n",
       "      <td>Live On Webcam</td>\n",
       "      <td>Check these out: http://t.co/rOI2NSmEJJ http://t.co/3Tj8ZjiN21 http://t.co/YDUiXEfIpE http://t.co/LxTjc87KLS #nsfw</td>\n",
       "      <td>0</td>\n",
       "      <td>8</td>\n",
       "    </tr>\n",
       "    <tr>\n",
       "      <th>156</th>\n",
       "      <td>aftershock</td>\n",
       "      <td>US</td>\n",
       "      <td>320 [IR] ICEMOON [AFTERSHOCK] | http://t.co/vAM5POdGyw | @djicemoon | #Dubstep #TrapMusic #DnB #EDM #Dance #IcesÛ_ http://t.co/zEVakJaPcz</td>\n",
       "      <td>0</td>\n",
       "      <td>16</td>\n",
       "    </tr>\n",
       "    <tr>\n",
       "      <th>165</th>\n",
       "      <td>aftershock</td>\n",
       "      <td>US</td>\n",
       "      <td>320 [IR] ICEMOON [AFTERSHOCK] | http://t.co/vAM5POdGyw | @djicemoon | #Dubstep #TrapMusic #DnB #EDM #Dance #IcesÛ_ http://t.co/zEVakJaPcz</td>\n",
       "      <td>0</td>\n",
       "      <td>16</td>\n",
       "    </tr>\n",
       "    <tr>\n",
       "      <th>171</th>\n",
       "      <td>aftershock</td>\n",
       "      <td>Switzerland</td>\n",
       "      <td>320 [IR] ICEMOON [AFTERSHOCK] | http://t.co/THyzOMVWU0 | @djicemoon | #Dubstep #TrapMusic #DnB #EDM #Dance #IcesÛ_ http://t.co/83jOO0xk29</td>\n",
       "      <td>0</td>\n",
       "      <td>16</td>\n",
       "    </tr>\n",
       "    <tr>\n",
       "      <th>...</th>\n",
       "      <td>...</td>\n",
       "      <td>...</td>\n",
       "      <td>...</td>\n",
       "      <td>...</td>\n",
       "      <td>...</td>\n",
       "    </tr>\n",
       "    <tr>\n",
       "      <th>10855</th>\n",
       "      <td>NaN</td>\n",
       "      <td>NaN</td>\n",
       "      <td>Evacuation order lifted for town of Roosevelt: http://t.co/EDyfo6E2PU http://t.co/M5KxLPKFA1</td>\n",
       "      <td>1</td>\n",
       "      <td>9</td>\n",
       "    </tr>\n",
       "    <tr>\n",
       "      <th>10867</th>\n",
       "      <td>NaN</td>\n",
       "      <td>NaN</td>\n",
       "      <td>#stormchase Violent Record Breaking EF-5 El Reno Oklahoma Tornado Nearly Runs Over ... - http://t.co/3SICroAaNz http://t.co/I27Oa0HISp</td>\n",
       "      <td>1</td>\n",
       "      <td>16</td>\n",
       "    </tr>\n",
       "    <tr>\n",
       "      <th>10870</th>\n",
       "      <td>NaN</td>\n",
       "      <td>NaN</td>\n",
       "      <td>@aria_ahrary @TheTawniest The out of control wild fires in California even in the Northern part of the state. Very troubling.</td>\n",
       "      <td>1</td>\n",
       "      <td>20</td>\n",
       "    </tr>\n",
       "    <tr>\n",
       "      <th>10871</th>\n",
       "      <td>NaN</td>\n",
       "      <td>NaN</td>\n",
       "      <td>M1.94 [01:04 UTC]?5km S of Volcano Hawaii. http://t.co/zDtoyd8EbJ</td>\n",
       "      <td>1</td>\n",
       "      <td>8</td>\n",
       "    </tr>\n",
       "    <tr>\n",
       "      <th>10872</th>\n",
       "      <td>NaN</td>\n",
       "      <td>NaN</td>\n",
       "      <td>Police investigating after an e-bike collided with a car in Little Portugal. E-bike rider suffered serious non-life threatening injuries.</td>\n",
       "      <td>1</td>\n",
       "      <td>19</td>\n",
       "    </tr>\n",
       "  </tbody>\n",
       "</table>\n",
       "<p>157 rows × 5 columns</p>\n",
       "</div>"
      ],
      "text/plain": [
       "          keyword        location  \\\n",
       "id                                  \n",
       "59         ablaze  Live On Webcam   \n",
       "68         ablaze  Live On Webcam   \n",
       "156    aftershock              US   \n",
       "165    aftershock              US   \n",
       "171    aftershock     Switzerland   \n",
       "...           ...             ...   \n",
       "10855         NaN             NaN   \n",
       "10867         NaN             NaN   \n",
       "10870         NaN             NaN   \n",
       "10871         NaN             NaN   \n",
       "10872         NaN             NaN   \n",
       "\n",
       "                                                                                                                                             text  \\\n",
       "id                                                                                                                                                  \n",
       "59                             Check these out: http://t.co/rOI2NSmEJJ http://t.co/3Tj8ZjiN21 http://t.co/YDUiXEfIpE http://t.co/LxTjc87KLS #nsfw   \n",
       "68                             Check these out: http://t.co/rOI2NSmEJJ http://t.co/3Tj8ZjiN21 http://t.co/YDUiXEfIpE http://t.co/LxTjc87KLS #nsfw   \n",
       "156    320 [IR] ICEMOON [AFTERSHOCK] | http://t.co/vAM5POdGyw | @djicemoon | #Dubstep #TrapMusic #DnB #EDM #Dance #IcesÛ_ http://t.co/zEVakJaPcz   \n",
       "165    320 [IR] ICEMOON [AFTERSHOCK] | http://t.co/vAM5POdGyw | @djicemoon | #Dubstep #TrapMusic #DnB #EDM #Dance #IcesÛ_ http://t.co/zEVakJaPcz   \n",
       "171    320 [IR] ICEMOON [AFTERSHOCK] | http://t.co/THyzOMVWU0 | @djicemoon | #Dubstep #TrapMusic #DnB #EDM #Dance #IcesÛ_ http://t.co/83jOO0xk29   \n",
       "...                                                                                                                                           ...   \n",
       "10855                                                Evacuation order lifted for town of Roosevelt: http://t.co/EDyfo6E2PU http://t.co/M5KxLPKFA1   \n",
       "10867      #stormchase Violent Record Breaking EF-5 El Reno Oklahoma Tornado Nearly Runs Over ... - http://t.co/3SICroAaNz http://t.co/I27Oa0HISp   \n",
       "10870               @aria_ahrary @TheTawniest The out of control wild fires in California even in the Northern part of the state. Very troubling.   \n",
       "10871                                                                           M1.94 [01:04 UTC]?5km S of Volcano Hawaii. http://t.co/zDtoyd8EbJ   \n",
       "10872   Police investigating after an e-bike collided with a car in Little Portugal. E-bike rider suffered serious non-life threatening injuries.   \n",
       "\n",
       "       target  text_length  \n",
       "id                          \n",
       "59          0            8  \n",
       "68          0            8  \n",
       "156         0           16  \n",
       "165         0           16  \n",
       "171         0           16  \n",
       "...       ...          ...  \n",
       "10855       1            9  \n",
       "10867       1           16  \n",
       "10870       1           20  \n",
       "10871       1            8  \n",
       "10872       1           19  \n",
       "\n",
       "[157 rows x 5 columns]"
      ]
     },
     "execution_count": 11,
     "metadata": {},
     "output_type": "execute_result"
    }
   ],
   "source": [
    "train_tweets_dup = train_tweets[train_tweets.duplicated(['text','target'], keep=False)]\n",
    "train_tweets_dup"
   ]
  },
  {
   "cell_type": "code",
   "execution_count": 12,
   "metadata": {},
   "outputs": [],
   "source": [
    "train_tweets.drop_duplicates(['text','target'], inplace=True)"
   ]
  },
  {
   "cell_type": "markdown",
   "metadata": {},
   "source": [
    "It may be possible that two tweets have the same `text` value, but differing `target` labels, since the labels were likely hand assigned. Contradictory class labelling could make a machine learning model harder to train, so these instances are found and then removed. As shown below, there are a small enough number of contradictory class labels that it is possible to manually inspect each pair to determine which one to keep."
   ]
  },
  {
   "cell_type": "code",
   "execution_count": 13,
   "metadata": {},
   "outputs": [
    {
     "data": {
      "text/html": [
       "<div>\n",
       "<style scoped>\n",
       "    .dataframe tbody tr th:only-of-type {\n",
       "        vertical-align: middle;\n",
       "    }\n",
       "\n",
       "    .dataframe tbody tr th {\n",
       "        vertical-align: top;\n",
       "    }\n",
       "\n",
       "    .dataframe thead th {\n",
       "        text-align: right;\n",
       "    }\n",
       "</style>\n",
       "<table border=\"1\" class=\"dataframe\">\n",
       "  <thead>\n",
       "    <tr style=\"text-align: right;\">\n",
       "      <th></th>\n",
       "      <th>text</th>\n",
       "      <th>target</th>\n",
       "    </tr>\n",
       "    <tr>\n",
       "      <th>id</th>\n",
       "      <th></th>\n",
       "      <th></th>\n",
       "    </tr>\n",
       "  </thead>\n",
       "  <tbody>\n",
       "    <tr>\n",
       "      <th>881</th>\n",
       "      <td>To fight bioterrorism sir.</td>\n",
       "      <td>1</td>\n",
       "    </tr>\n",
       "    <tr>\n",
       "      <th>898</th>\n",
       "      <td>To fight bioterrorism sir.</td>\n",
       "      <td>0</td>\n",
       "    </tr>\n",
       "    <tr>\n",
       "      <th>1723</th>\n",
       "      <td>Mmmmmm I'm burning.... I'm burning buildings I'm building.... Oooooohhhh oooh ooh...</td>\n",
       "      <td>1</td>\n",
       "    </tr>\n",
       "    <tr>\n",
       "      <th>1752</th>\n",
       "      <td>I Pledge Allegiance To The P.O.P.E. And The Burning Buildings of Epic City. ??????</td>\n",
       "      <td>0</td>\n",
       "    </tr>\n",
       "    <tr>\n",
       "      <th>1760</th>\n",
       "      <td>like for the music video I want some real action shit like burning buildings and police chases not some weak ben winston shit</td>\n",
       "      <td>1</td>\n",
       "    </tr>\n",
       "    <tr>\n",
       "      <th>1922</th>\n",
       "      <td>Mmmmmm I'm burning.... I'm burning buildings I'm building.... Oooooohhhh oooh ooh...</td>\n",
       "      <td>0</td>\n",
       "    </tr>\n",
       "    <tr>\n",
       "      <th>1950</th>\n",
       "      <td>like for the music video I want some real action shit like burning buildings and police chases not some weak ben winston shit</td>\n",
       "      <td>0</td>\n",
       "    </tr>\n",
       "    <tr>\n",
       "      <th>1968</th>\n",
       "      <td>I Pledge Allegiance To The P.O.P.E. And The Burning Buildings of Epic City. ??????</td>\n",
       "      <td>1</td>\n",
       "    </tr>\n",
       "    <tr>\n",
       "      <th>4068</th>\n",
       "      <td>.POTUS #StrategicPatience is a strategy for #Genocide; refugees; IDP Internally displaced people; horror; etc. https://t.co/rqWuoy1fm4</td>\n",
       "      <td>1</td>\n",
       "    </tr>\n",
       "    <tr>\n",
       "      <th>4076</th>\n",
       "      <td>.POTUS #StrategicPatience is a strategy for #Genocide; refugees; IDP Internally displaced people; horror; etc. https://t.co/rqWuoy1fm4</td>\n",
       "      <td>0</td>\n",
       "    </tr>\n",
       "    <tr>\n",
       "      <th>4656</th>\n",
       "      <td>He came to a land which was engulfed in tribal war and turned it into a land of peace i.e. Madinah. #ProphetMuhammad #islam</td>\n",
       "      <td>0</td>\n",
       "    </tr>\n",
       "    <tr>\n",
       "      <th>4659</th>\n",
       "      <td>He came to a land which was engulfed in tribal war and turned it into a land of peace i.e. Madinah. #ProphetMuhammad #islam</td>\n",
       "      <td>1</td>\n",
       "    </tr>\n",
       "    <tr>\n",
       "      <th>5662</th>\n",
       "      <td>Who is bringing the tornadoes and floods. Who is bringing the climate change. God is after America He is plaguing her\\n \\n#FARRAKHAN #QUOTE</td>\n",
       "      <td>1</td>\n",
       "    </tr>\n",
       "    <tr>\n",
       "      <th>5699</th>\n",
       "      <td>Who is bringing the tornadoes and floods. Who is bringing the climate change. God is after America He is plaguing her\\n \\n#FARRAKHAN #QUOTE</td>\n",
       "      <td>0</td>\n",
       "    </tr>\n",
       "    <tr>\n",
       "      <th>5996</th>\n",
       "      <td>#foodscare #offers2go #NestleIndia slips into loss after #Magginoodle #ban unsafe and hazardous for #humanconsumption</td>\n",
       "      <td>1</td>\n",
       "    </tr>\n",
       "    <tr>\n",
       "      <th>6012</th>\n",
       "      <td>Caution: breathing may be hazardous to your health.</td>\n",
       "      <td>1</td>\n",
       "    </tr>\n",
       "    <tr>\n",
       "      <th>6017</th>\n",
       "      <td>Caution: breathing may be hazardous to your health.</td>\n",
       "      <td>0</td>\n",
       "    </tr>\n",
       "    <tr>\n",
       "      <th>6031</th>\n",
       "      <td>#foodscare #offers2go #NestleIndia slips into loss after #Magginoodle #ban unsafe and hazardous for #humanconsumption</td>\n",
       "      <td>0</td>\n",
       "    </tr>\n",
       "    <tr>\n",
       "      <th>6087</th>\n",
       "      <td>The Prophet (peace be upon him) said 'Save yourself from Hellfire even if it is by giving half a date in charity.'</td>\n",
       "      <td>0</td>\n",
       "    </tr>\n",
       "    <tr>\n",
       "      <th>6088</th>\n",
       "      <td>Hellfire is surrounded by desires so be careful and donÛªt let your desires control you! #Afterlife</td>\n",
       "      <td>0</td>\n",
       "    </tr>\n",
       "    <tr>\n",
       "      <th>6094</th>\n",
       "      <td>#Allah describes piling up #wealth thinking it would last #forever as the description of the people of #Hellfire in Surah Humaza. #Reflect</td>\n",
       "      <td>0</td>\n",
       "    </tr>\n",
       "    <tr>\n",
       "      <th>6097</th>\n",
       "      <td>The Prophet (peace be upon him) said 'Save yourself from Hellfire even if it is by giving half a date in charity.'</td>\n",
       "      <td>1</td>\n",
       "    </tr>\n",
       "    <tr>\n",
       "      <th>6112</th>\n",
       "      <td>Hellfire is surrounded by desires so be careful and donÛªt let your desires control you! #Afterlife</td>\n",
       "      <td>1</td>\n",
       "    </tr>\n",
       "    <tr>\n",
       "      <th>6113</th>\n",
       "      <td>Hellfire! We donÛªt even want to think about it or mention it so letÛªs not do anything that leads to it #islam!</td>\n",
       "      <td>0</td>\n",
       "    </tr>\n",
       "    <tr>\n",
       "      <th>6123</th>\n",
       "      <td>#Allah describes piling up #wealth thinking it would last #forever as the description of the people of #Hellfire in Surah Humaza. #Reflect</td>\n",
       "      <td>1</td>\n",
       "    </tr>\n",
       "    <tr>\n",
       "      <th>6134</th>\n",
       "      <td>Hellfire! We donÛªt even want to think about it or mention it so letÛªs not do anything that leads to it #islam!</td>\n",
       "      <td>1</td>\n",
       "    </tr>\n",
       "    <tr>\n",
       "      <th>6220</th>\n",
       "      <td>RT NotExplained: The only known image of infamous hijacker D.B. Cooper. http://t.co/JlzK2HdeTG</td>\n",
       "      <td>0</td>\n",
       "    </tr>\n",
       "    <tr>\n",
       "      <th>6223</th>\n",
       "      <td>RT NotExplained: The only known image of infamous hijacker D.B. Cooper. http://t.co/JlzK2HdeTG</td>\n",
       "      <td>1</td>\n",
       "    </tr>\n",
       "    <tr>\n",
       "      <th>6537</th>\n",
       "      <td>CLEARED:incident with injury:I-495  inner loop Exit 31 - MD 97/Georgia Ave Silver Spring</td>\n",
       "      <td>1</td>\n",
       "    </tr>\n",
       "    <tr>\n",
       "      <th>6566</th>\n",
       "      <td>CLEARED:incident with injury:I-495  inner loop Exit 31 - MD 97/Georgia Ave Silver Spring</td>\n",
       "      <td>0</td>\n",
       "    </tr>\n",
       "    <tr>\n",
       "      <th>8018</th>\n",
       "      <td>wowo--=== 12000 Nigerian refugees repatriated from Cameroon</td>\n",
       "      <td>1</td>\n",
       "    </tr>\n",
       "    <tr>\n",
       "      <th>8044</th>\n",
       "      <td>wowo--=== 12000 Nigerian refugees repatriated from Cameroon</td>\n",
       "      <td>0</td>\n",
       "    </tr>\n",
       "    <tr>\n",
       "      <th>8698</th>\n",
       "      <td>that horrible sinking feeling when youÛªve been at home on your phone for a while and you realise its been on 3G this whole time</td>\n",
       "      <td>1</td>\n",
       "    </tr>\n",
       "    <tr>\n",
       "      <th>8702</th>\n",
       "      <td>that horrible sinking feeling when youÛªve been at home on your phone for a while and you realise its been on 3G this whole time</td>\n",
       "      <td>0</td>\n",
       "    </tr>\n",
       "    <tr>\n",
       "      <th>9470</th>\n",
       "      <td>In #islam saving a person is equal in reward to saving all humans! Islam is the opposite of terrorism!</td>\n",
       "      <td>0</td>\n",
       "    </tr>\n",
       "    <tr>\n",
       "      <th>9472</th>\n",
       "      <td>In #islam saving a person is equal in reward to saving all humans! Islam is the opposite of terrorism!</td>\n",
       "      <td>1</td>\n",
       "    </tr>\n",
       "  </tbody>\n",
       "</table>\n",
       "</div>"
      ],
      "text/plain": [
       "                                                                                                                                             text  \\\n",
       "id                                                                                                                                                  \n",
       "881                                                                                                                    To fight bioterrorism sir.   \n",
       "898                                                                                                                    To fight bioterrorism sir.   \n",
       "1723                                                         Mmmmmm I'm burning.... I'm burning buildings I'm building.... Oooooohhhh oooh ooh...   \n",
       "1752                                                           I Pledge Allegiance To The P.O.P.E. And The Burning Buildings of Epic City. ??????   \n",
       "1760                like for the music video I want some real action shit like burning buildings and police chases not some weak ben winston shit   \n",
       "1922                                                         Mmmmmm I'm burning.... I'm burning buildings I'm building.... Oooooohhhh oooh ooh...   \n",
       "1950                like for the music video I want some real action shit like burning buildings and police chases not some weak ben winston shit   \n",
       "1968                                                           I Pledge Allegiance To The P.O.P.E. And The Burning Buildings of Epic City. ??????   \n",
       "4068       .POTUS #StrategicPatience is a strategy for #Genocide; refugees; IDP Internally displaced people; horror; etc. https://t.co/rqWuoy1fm4   \n",
       "4076       .POTUS #StrategicPatience is a strategy for #Genocide; refugees; IDP Internally displaced people; horror; etc. https://t.co/rqWuoy1fm4   \n",
       "4656                  He came to a land which was engulfed in tribal war and turned it into a land of peace i.e. Madinah. #ProphetMuhammad #islam   \n",
       "4659                  He came to a land which was engulfed in tribal war and turned it into a land of peace i.e. Madinah. #ProphetMuhammad #islam   \n",
       "5662  Who is bringing the tornadoes and floods. Who is bringing the climate change. God is after America He is plaguing her\\n \\n#FARRAKHAN #QUOTE   \n",
       "5699  Who is bringing the tornadoes and floods. Who is bringing the climate change. God is after America He is plaguing her\\n \\n#FARRAKHAN #QUOTE   \n",
       "5996                        #foodscare #offers2go #NestleIndia slips into loss after #Magginoodle #ban unsafe and hazardous for #humanconsumption   \n",
       "6012                                                                                          Caution: breathing may be hazardous to your health.   \n",
       "6017                                                                                          Caution: breathing may be hazardous to your health.   \n",
       "6031                        #foodscare #offers2go #NestleIndia slips into loss after #Magginoodle #ban unsafe and hazardous for #humanconsumption   \n",
       "6087                           The Prophet (peace be upon him) said 'Save yourself from Hellfire even if it is by giving half a date in charity.'   \n",
       "6088                                         Hellfire is surrounded by desires so be careful and donÛªt let your desires control you! #Afterlife   \n",
       "6094   #Allah describes piling up #wealth thinking it would last #forever as the description of the people of #Hellfire in Surah Humaza. #Reflect   \n",
       "6097                           The Prophet (peace be upon him) said 'Save yourself from Hellfire even if it is by giving half a date in charity.'   \n",
       "6112                                         Hellfire is surrounded by desires so be careful and donÛªt let your desires control you! #Afterlife   \n",
       "6113                           Hellfire! We donÛªt even want to think about it or mention it so letÛªs not do anything that leads to it #islam!   \n",
       "6123   #Allah describes piling up #wealth thinking it would last #forever as the description of the people of #Hellfire in Surah Humaza. #Reflect   \n",
       "6134                           Hellfire! We donÛªt even want to think about it or mention it so letÛªs not do anything that leads to it #islam!   \n",
       "6220                                               RT NotExplained: The only known image of infamous hijacker D.B. Cooper. http://t.co/JlzK2HdeTG   \n",
       "6223                                               RT NotExplained: The only known image of infamous hijacker D.B. Cooper. http://t.co/JlzK2HdeTG   \n",
       "6537                                                     CLEARED:incident with injury:I-495  inner loop Exit 31 - MD 97/Georgia Ave Silver Spring   \n",
       "6566                                                     CLEARED:incident with injury:I-495  inner loop Exit 31 - MD 97/Georgia Ave Silver Spring   \n",
       "8018                                                                                  wowo--=== 12000 Nigerian refugees repatriated from Cameroon   \n",
       "8044                                                                                  wowo--=== 12000 Nigerian refugees repatriated from Cameroon   \n",
       "8698            that horrible sinking feeling when youÛªve been at home on your phone for a while and you realise its been on 3G this whole time   \n",
       "8702            that horrible sinking feeling when youÛªve been at home on your phone for a while and you realise its been on 3G this whole time   \n",
       "9470                                       In #islam saving a person is equal in reward to saving all humans! Islam is the opposite of terrorism!   \n",
       "9472                                       In #islam saving a person is equal in reward to saving all humans! Islam is the opposite of terrorism!   \n",
       "\n",
       "      target  \n",
       "id            \n",
       "881        1  \n",
       "898        0  \n",
       "1723       1  \n",
       "1752       0  \n",
       "1760       1  \n",
       "1922       0  \n",
       "1950       0  \n",
       "1968       1  \n",
       "4068       1  \n",
       "4076       0  \n",
       "4656       0  \n",
       "4659       1  \n",
       "5662       1  \n",
       "5699       0  \n",
       "5996       1  \n",
       "6012       1  \n",
       "6017       0  \n",
       "6031       0  \n",
       "6087       0  \n",
       "6088       0  \n",
       "6094       0  \n",
       "6097       1  \n",
       "6112       1  \n",
       "6113       0  \n",
       "6123       1  \n",
       "6134       1  \n",
       "6220       0  \n",
       "6223       1  \n",
       "6537       1  \n",
       "6566       0  \n",
       "8018       1  \n",
       "8044       0  \n",
       "8698       1  \n",
       "8702       0  \n",
       "9470       0  \n",
       "9472       1  "
      ]
     },
     "execution_count": 13,
     "metadata": {},
     "output_type": "execute_result"
    }
   ],
   "source": [
    "train_tweets_diff = train_tweets[train_tweets.duplicated(['text'], keep=False)]\n",
    "train_tweets_diff[['text','target']]"
   ]
  },
  {
   "cell_type": "code",
   "execution_count": 14,
   "metadata": {},
   "outputs": [],
   "source": [
    "train_drop_id = [881, 1723, 1760, 1968, 4068, \n",
    "                 4659, 5662, 5996, 6012, 6097, \n",
    "                 6112, 6113, 6123, 6134, 6223, \n",
    "                 6537, 8644, 8698, 9472]\n",
    "\n",
    "train_tweets.drop(train_drop_id, axis=0, inplace=True)"
   ]
  },
  {
   "cell_type": "markdown",
   "metadata": {},
   "source": [
    "Finally, special characters and URL's are removed from the tweets, to leave only words separated by spaces."
   ]
  },
  {
   "cell_type": "code",
   "execution_count": 15,
   "metadata": {},
   "outputs": [],
   "source": [
    "import re\n",
    "\n",
    "# function to remove special characters from a string\n",
    "def remove_special_chars(text):\n",
    "    return re.sub(r'[^A-Za-z0-9 ]+', '', text)\n",
    "\n",
    "# function to remove url from a string\n",
    "def remove_url(text):\n",
    "    return re.sub(r'http\\S+', '', text)"
   ]
  },
  {
   "cell_type": "code",
   "execution_count": 16,
   "metadata": {},
   "outputs": [
    {
     "data": {
      "text/html": [
       "<div>\n",
       "<style scoped>\n",
       "    .dataframe tbody tr th:only-of-type {\n",
       "        vertical-align: middle;\n",
       "    }\n",
       "\n",
       "    .dataframe tbody tr th {\n",
       "        vertical-align: top;\n",
       "    }\n",
       "\n",
       "    .dataframe thead th {\n",
       "        text-align: right;\n",
       "    }\n",
       "</style>\n",
       "<table border=\"1\" class=\"dataframe\">\n",
       "  <thead>\n",
       "    <tr style=\"text-align: right;\">\n",
       "      <th></th>\n",
       "      <th>keyword</th>\n",
       "      <th>location</th>\n",
       "      <th>text</th>\n",
       "      <th>target</th>\n",
       "      <th>text_length</th>\n",
       "    </tr>\n",
       "    <tr>\n",
       "      <th>id</th>\n",
       "      <th></th>\n",
       "      <th></th>\n",
       "      <th></th>\n",
       "      <th></th>\n",
       "      <th></th>\n",
       "    </tr>\n",
       "  </thead>\n",
       "  <tbody>\n",
       "    <tr>\n",
       "      <th>1</th>\n",
       "      <td>NaN</td>\n",
       "      <td>NaN</td>\n",
       "      <td>Our Deeds are the Reason of this earthquake May ALLAH Forgive us all</td>\n",
       "      <td>1</td>\n",
       "      <td>13</td>\n",
       "    </tr>\n",
       "    <tr>\n",
       "      <th>4</th>\n",
       "      <td>NaN</td>\n",
       "      <td>NaN</td>\n",
       "      <td>Forest fire near La Ronge Sask Canada</td>\n",
       "      <td>1</td>\n",
       "      <td>7</td>\n",
       "    </tr>\n",
       "    <tr>\n",
       "      <th>5</th>\n",
       "      <td>NaN</td>\n",
       "      <td>NaN</td>\n",
       "      <td>All residents asked to shelter in place are being notified by officers No other evacuation or shelter in place orders are expected</td>\n",
       "      <td>1</td>\n",
       "      <td>22</td>\n",
       "    </tr>\n",
       "    <tr>\n",
       "      <th>6</th>\n",
       "      <td>NaN</td>\n",
       "      <td>NaN</td>\n",
       "      <td>13000 people receive wildfires evacuation orders in California</td>\n",
       "      <td>1</td>\n",
       "      <td>8</td>\n",
       "    </tr>\n",
       "    <tr>\n",
       "      <th>7</th>\n",
       "      <td>NaN</td>\n",
       "      <td>NaN</td>\n",
       "      <td>Just got sent this photo from Ruby Alaska as smoke from wildfires pours into a school</td>\n",
       "      <td>1</td>\n",
       "      <td>16</td>\n",
       "    </tr>\n",
       "    <tr>\n",
       "      <th>...</th>\n",
       "      <td>...</td>\n",
       "      <td>...</td>\n",
       "      <td>...</td>\n",
       "      <td>...</td>\n",
       "      <td>...</td>\n",
       "    </tr>\n",
       "    <tr>\n",
       "      <th>10863</th>\n",
       "      <td>NaN</td>\n",
       "      <td>NaN</td>\n",
       "      <td>WorldNews Fallen powerlines on Glink tram UPDATE FIRE crews have evacuated up to 30 passengers who were tr</td>\n",
       "      <td>1</td>\n",
       "      <td>19</td>\n",
       "    </tr>\n",
       "    <tr>\n",
       "      <th>10864</th>\n",
       "      <td>NaN</td>\n",
       "      <td>NaN</td>\n",
       "      <td>on the flip side Im at Walmart and there is a bomb and everyone had to evacuate so stay tuned if I blow up or not</td>\n",
       "      <td>1</td>\n",
       "      <td>26</td>\n",
       "    </tr>\n",
       "    <tr>\n",
       "      <th>10866</th>\n",
       "      <td>NaN</td>\n",
       "      <td>NaN</td>\n",
       "      <td>Suicide bomber kills 15 in Saudi security site mosque  Reuters via World  Google News  Wall</td>\n",
       "      <td>1</td>\n",
       "      <td>20</td>\n",
       "    </tr>\n",
       "    <tr>\n",
       "      <th>10869</th>\n",
       "      <td>NaN</td>\n",
       "      <td>NaN</td>\n",
       "      <td>Two giant cranes holding a bridge collapse into nearby homes</td>\n",
       "      <td>1</td>\n",
       "      <td>11</td>\n",
       "    </tr>\n",
       "    <tr>\n",
       "      <th>10873</th>\n",
       "      <td>NaN</td>\n",
       "      <td>NaN</td>\n",
       "      <td>The Latest More Homes Razed by Northern California Wildfire  ABC News</td>\n",
       "      <td>1</td>\n",
       "      <td>13</td>\n",
       "    </tr>\n",
       "  </tbody>\n",
       "</table>\n",
       "<p>7502 rows × 5 columns</p>\n",
       "</div>"
      ],
      "text/plain": [
       "      keyword location  \\\n",
       "id                       \n",
       "1         NaN      NaN   \n",
       "4         NaN      NaN   \n",
       "5         NaN      NaN   \n",
       "6         NaN      NaN   \n",
       "7         NaN      NaN   \n",
       "...       ...      ...   \n",
       "10863     NaN      NaN   \n",
       "10864     NaN      NaN   \n",
       "10866     NaN      NaN   \n",
       "10869     NaN      NaN   \n",
       "10873     NaN      NaN   \n",
       "\n",
       "                                                                                                                                     text  \\\n",
       "id                                                                                                                                          \n",
       "1                                                                    Our Deeds are the Reason of this earthquake May ALLAH Forgive us all   \n",
       "4                                                                                                   Forest fire near La Ronge Sask Canada   \n",
       "5      All residents asked to shelter in place are being notified by officers No other evacuation or shelter in place orders are expected   \n",
       "6                                                                         13000 people receive wildfires evacuation orders in California    \n",
       "7                                                  Just got sent this photo from Ruby Alaska as smoke from wildfires pours into a school    \n",
       "...                                                                                                                                   ...   \n",
       "10863                         WorldNews Fallen powerlines on Glink tram UPDATE FIRE crews have evacuated up to 30 passengers who were tr    \n",
       "10864                   on the flip side Im at Walmart and there is a bomb and everyone had to evacuate so stay tuned if I blow up or not   \n",
       "10866                                       Suicide bomber kills 15 in Saudi security site mosque  Reuters via World  Google News  Wall     \n",
       "10869                                                                       Two giant cranes holding a bridge collapse into nearby homes    \n",
       "10873                                                              The Latest More Homes Razed by Northern California Wildfire  ABC News    \n",
       "\n",
       "       target  text_length  \n",
       "id                          \n",
       "1           1           13  \n",
       "4           1            7  \n",
       "5           1           22  \n",
       "6           1            8  \n",
       "7           1           16  \n",
       "...       ...          ...  \n",
       "10863       1           19  \n",
       "10864       1           26  \n",
       "10866       1           20  \n",
       "10869       1           11  \n",
       "10873       1           13  \n",
       "\n",
       "[7502 rows x 5 columns]"
      ]
     },
     "execution_count": 16,
     "metadata": {},
     "output_type": "execute_result"
    }
   ],
   "source": [
    "train_tweets['text'] = train_tweets['text'].apply(lambda text: remove_special_chars(text))\n",
    "train_tweets['text'] = train_tweets['text'].apply(lambda text: remove_url(text))\n",
    "train_tweets"
   ]
  },
  {
   "cell_type": "markdown",
   "metadata": {},
   "source": [
    "### 4.2 Test Data Analysis and Cleaning\n",
    "\n",
    "The same analysis and cleaning procedure is applied to the test data set, with a couple exceptions. Duplicate tweets are not dropped from the test set, as the Kaggle evaluation system expects predictions for a complete test set. It is also not possible to assess if there are contradictory class labels for pairs of tweets, since there are no class labels in the test set."
   ]
  },
  {
   "cell_type": "code",
   "execution_count": 17,
   "metadata": {},
   "outputs": [],
   "source": [
    "test_tweets = pd.read_csv('test.csv', index_col='id')"
   ]
  },
  {
   "cell_type": "code",
   "execution_count": 18,
   "metadata": {},
   "outputs": [
    {
     "data": {
      "text/html": [
       "<div>\n",
       "<style scoped>\n",
       "    .dataframe tbody tr th:only-of-type {\n",
       "        vertical-align: middle;\n",
       "    }\n",
       "\n",
       "    .dataframe tbody tr th {\n",
       "        vertical-align: top;\n",
       "    }\n",
       "\n",
       "    .dataframe thead th {\n",
       "        text-align: right;\n",
       "    }\n",
       "</style>\n",
       "<table border=\"1\" class=\"dataframe\">\n",
       "  <thead>\n",
       "    <tr style=\"text-align: right;\">\n",
       "      <th></th>\n",
       "      <th>keyword</th>\n",
       "      <th>location</th>\n",
       "      <th>text</th>\n",
       "    </tr>\n",
       "    <tr>\n",
       "      <th>id</th>\n",
       "      <th></th>\n",
       "      <th></th>\n",
       "      <th></th>\n",
       "    </tr>\n",
       "  </thead>\n",
       "  <tbody>\n",
       "    <tr>\n",
       "      <th>0</th>\n",
       "      <td>NaN</td>\n",
       "      <td>NaN</td>\n",
       "      <td>Just happened a terrible car crash</td>\n",
       "    </tr>\n",
       "    <tr>\n",
       "      <th>2</th>\n",
       "      <td>NaN</td>\n",
       "      <td>NaN</td>\n",
       "      <td>Heard about #earthquake is different cities, stay safe everyone.</td>\n",
       "    </tr>\n",
       "    <tr>\n",
       "      <th>3</th>\n",
       "      <td>NaN</td>\n",
       "      <td>NaN</td>\n",
       "      <td>there is a forest fire at spot pond, geese are fleeing across the street, I cannot save them all</td>\n",
       "    </tr>\n",
       "    <tr>\n",
       "      <th>9</th>\n",
       "      <td>NaN</td>\n",
       "      <td>NaN</td>\n",
       "      <td>Apocalypse lighting. #Spokane #wildfires</td>\n",
       "    </tr>\n",
       "    <tr>\n",
       "      <th>11</th>\n",
       "      <td>NaN</td>\n",
       "      <td>NaN</td>\n",
       "      <td>Typhoon Soudelor kills 28 in China and Taiwan</td>\n",
       "    </tr>\n",
       "    <tr>\n",
       "      <th>...</th>\n",
       "      <td>...</td>\n",
       "      <td>...</td>\n",
       "      <td>...</td>\n",
       "    </tr>\n",
       "    <tr>\n",
       "      <th>10861</th>\n",
       "      <td>NaN</td>\n",
       "      <td>NaN</td>\n",
       "      <td>EARTHQUAKE SAFETY LOS ANGELES ÛÒ SAFETY FASTENERS XrWn</td>\n",
       "    </tr>\n",
       "    <tr>\n",
       "      <th>10865</th>\n",
       "      <td>NaN</td>\n",
       "      <td>NaN</td>\n",
       "      <td>Storm in RI worse than last hurricane. My city&amp;amp;3others hardest hit. My yard looks like it was bombed. Around 20000K still without power</td>\n",
       "    </tr>\n",
       "    <tr>\n",
       "      <th>10868</th>\n",
       "      <td>NaN</td>\n",
       "      <td>NaN</td>\n",
       "      <td>Green Line derailment in Chicago http://t.co/UtbXLcBIuY</td>\n",
       "    </tr>\n",
       "    <tr>\n",
       "      <th>10874</th>\n",
       "      <td>NaN</td>\n",
       "      <td>NaN</td>\n",
       "      <td>MEG issues Hazardous Weather Outlook (HWO) http://t.co/3X6RBQJHn3</td>\n",
       "    </tr>\n",
       "    <tr>\n",
       "      <th>10875</th>\n",
       "      <td>NaN</td>\n",
       "      <td>NaN</td>\n",
       "      <td>#CityofCalgary has activated its Municipal Emergency Plan. #yycstorm</td>\n",
       "    </tr>\n",
       "  </tbody>\n",
       "</table>\n",
       "<p>3263 rows × 3 columns</p>\n",
       "</div>"
      ],
      "text/plain": [
       "      keyword location  \\\n",
       "id                       \n",
       "0         NaN      NaN   \n",
       "2         NaN      NaN   \n",
       "3         NaN      NaN   \n",
       "9         NaN      NaN   \n",
       "11        NaN      NaN   \n",
       "...       ...      ...   \n",
       "10861     NaN      NaN   \n",
       "10865     NaN      NaN   \n",
       "10868     NaN      NaN   \n",
       "10874     NaN      NaN   \n",
       "10875     NaN      NaN   \n",
       "\n",
       "                                                                                                                                              text  \n",
       "id                                                                                                                                                  \n",
       "0                                                                                                               Just happened a terrible car crash  \n",
       "2                                                                                 Heard about #earthquake is different cities, stay safe everyone.  \n",
       "3                                                 there is a forest fire at spot pond, geese are fleeing across the street, I cannot save them all  \n",
       "9                                                                                                         Apocalypse lighting. #Spokane #wildfires  \n",
       "11                                                                                                   Typhoon Soudelor kills 28 in China and Taiwan  \n",
       "...                                                                                                                                            ...  \n",
       "10861                                                                                      EARTHQUAKE SAFETY LOS ANGELES ÛÒ SAFETY FASTENERS XrWn  \n",
       "10865  Storm in RI worse than last hurricane. My city&amp;3others hardest hit. My yard looks like it was bombed. Around 20000K still without power  \n",
       "10868                                                                                      Green Line derailment in Chicago http://t.co/UtbXLcBIuY  \n",
       "10874                                                                            MEG issues Hazardous Weather Outlook (HWO) http://t.co/3X6RBQJHn3  \n",
       "10875                                                                         #CityofCalgary has activated its Municipal Emergency Plan. #yycstorm  \n",
       "\n",
       "[3263 rows x 3 columns]"
      ]
     },
     "execution_count": 18,
     "metadata": {},
     "output_type": "execute_result"
    }
   ],
   "source": [
    "test_tweets"
   ]
  },
  {
   "cell_type": "code",
   "execution_count": 19,
   "metadata": {},
   "outputs": [
    {
     "name": "stdout",
     "output_type": "stream",
     "text": [
      "<class 'pandas.core.frame.DataFrame'>\n",
      "Int64Index: 3263 entries, 0 to 10875\n",
      "Data columns (total 3 columns):\n",
      " #   Column    Non-Null Count  Dtype \n",
      "---  ------    --------------  ----- \n",
      " 0   keyword   3237 non-null   object\n",
      " 1   location  2158 non-null   object\n",
      " 2   text      3263 non-null   object\n",
      "dtypes: object(3)\n",
      "memory usage: 102.0+ KB\n"
     ]
    }
   ],
   "source": [
    "test_tweets.info()"
   ]
  },
  {
   "cell_type": "code",
   "execution_count": 20,
   "metadata": {},
   "outputs": [
    {
     "data": {
      "text/html": [
       "<div>\n",
       "<style scoped>\n",
       "    .dataframe tbody tr th:only-of-type {\n",
       "        vertical-align: middle;\n",
       "    }\n",
       "\n",
       "    .dataframe tbody tr th {\n",
       "        vertical-align: top;\n",
       "    }\n",
       "\n",
       "    .dataframe thead th {\n",
       "        text-align: right;\n",
       "    }\n",
       "</style>\n",
       "<table border=\"1\" class=\"dataframe\">\n",
       "  <thead>\n",
       "    <tr style=\"text-align: right;\">\n",
       "      <th></th>\n",
       "      <th>keyword</th>\n",
       "      <th>location</th>\n",
       "      <th>text</th>\n",
       "      <th>text_length</th>\n",
       "    </tr>\n",
       "    <tr>\n",
       "      <th>id</th>\n",
       "      <th></th>\n",
       "      <th></th>\n",
       "      <th></th>\n",
       "      <th></th>\n",
       "    </tr>\n",
       "  </thead>\n",
       "  <tbody>\n",
       "    <tr>\n",
       "      <th>0</th>\n",
       "      <td>NaN</td>\n",
       "      <td>NaN</td>\n",
       "      <td>Just happened a terrible car crash</td>\n",
       "      <td>6</td>\n",
       "    </tr>\n",
       "    <tr>\n",
       "      <th>2</th>\n",
       "      <td>NaN</td>\n",
       "      <td>NaN</td>\n",
       "      <td>Heard about #earthquake is different cities, stay safe everyone.</td>\n",
       "      <td>9</td>\n",
       "    </tr>\n",
       "    <tr>\n",
       "      <th>3</th>\n",
       "      <td>NaN</td>\n",
       "      <td>NaN</td>\n",
       "      <td>there is a forest fire at spot pond, geese are fleeing across the street, I cannot save them all</td>\n",
       "      <td>19</td>\n",
       "    </tr>\n",
       "    <tr>\n",
       "      <th>9</th>\n",
       "      <td>NaN</td>\n",
       "      <td>NaN</td>\n",
       "      <td>Apocalypse lighting. #Spokane #wildfires</td>\n",
       "      <td>4</td>\n",
       "    </tr>\n",
       "    <tr>\n",
       "      <th>11</th>\n",
       "      <td>NaN</td>\n",
       "      <td>NaN</td>\n",
       "      <td>Typhoon Soudelor kills 28 in China and Taiwan</td>\n",
       "      <td>8</td>\n",
       "    </tr>\n",
       "  </tbody>\n",
       "</table>\n",
       "</div>"
      ],
      "text/plain": [
       "   keyword location  \\\n",
       "id                    \n",
       "0      NaN      NaN   \n",
       "2      NaN      NaN   \n",
       "3      NaN      NaN   \n",
       "9      NaN      NaN   \n",
       "11     NaN      NaN   \n",
       "\n",
       "                                                                                                text  \\\n",
       "id                                                                                                     \n",
       "0                                                                 Just happened a terrible car crash   \n",
       "2                                   Heard about #earthquake is different cities, stay safe everyone.   \n",
       "3   there is a forest fire at spot pond, geese are fleeing across the street, I cannot save them all   \n",
       "9                                                           Apocalypse lighting. #Spokane #wildfires   \n",
       "11                                                     Typhoon Soudelor kills 28 in China and Taiwan   \n",
       "\n",
       "    text_length  \n",
       "id               \n",
       "0             6  \n",
       "2             9  \n",
       "3            19  \n",
       "9             4  \n",
       "11            8  "
      ]
     },
     "execution_count": 20,
     "metadata": {},
     "output_type": "execute_result"
    }
   ],
   "source": [
    "test_tweets['text_length'] = test_tweets['text'].str.split().str.len()\n",
    "test_tweets.head()"
   ]
  },
  {
   "cell_type": "code",
   "execution_count": 21,
   "metadata": {},
   "outputs": [
    {
     "data": {
      "text/plain": [
       "count    3263.000000\n",
       "mean       14.965369\n",
       "std         5.783576\n",
       "min         1.000000\n",
       "25%        11.000000\n",
       "50%        15.000000\n",
       "75%        19.000000\n",
       "max        31.000000\n",
       "Name: text_length, dtype: float64"
      ]
     },
     "execution_count": 21,
     "metadata": {},
     "output_type": "execute_result"
    }
   ],
   "source": [
    "test_tweets['text_length'].describe()"
   ]
  },
  {
   "cell_type": "code",
   "execution_count": 22,
   "metadata": {},
   "outputs": [
    {
     "data": {
      "image/png": "[encoded data removed]",
      "text/plain": [
       "<Figure size 432x288 with 1 Axes>"
      ]
     },
     "metadata": {
      "needs_background": "light"
     },
     "output_type": "display_data"
    }
   ],
   "source": [
    "plt.figure()\n",
    "sns.distplot(test_tweets['text_length'], kde=False, bins=30)\n",
    "plt.title('Distribution of tweet lengths in the test dataset')\n",
    "plt.xlabel('Tweet length (number of words)')\n",
    "plt.ylabel('Count');"
   ]
  },
  {
   "cell_type": "code",
   "execution_count": 23,
   "metadata": {},
   "outputs": [
    {
     "data": {
      "text/plain": [
       "0    18\n",
       "dtype: int64"
      ]
     },
     "execution_count": 23,
     "metadata": {},
     "output_type": "execute_result"
    }
   ],
   "source": [
    "test_tweets['text_length'].mode()"
   ]
  },
  {
   "cell_type": "markdown",
   "metadata": {},
   "source": [
    "The distribution of tweet lengths in the test dataset appears very similar to the training set. For the test set, the average is 15, the max is 31, and the mode is 18.\n",
    "\n",
    "Similar training and test set distributions allow for a validation set to be created from the training data that will have the same distribution as the test set. A validation set that has the same distribution as the test set is important because models that are developed will be evaluated on the validation set, and so will be evaluated against similar data as in the test set, which is ultimately what the final model will be scored on for the competition."
   ]
  },
  {
   "cell_type": "code",
   "execution_count": 24,
   "metadata": {},
   "outputs": [
    {
     "data": {
      "text/html": [
       "<div>\n",
       "<style scoped>\n",
       "    .dataframe tbody tr th:only-of-type {\n",
       "        vertical-align: middle;\n",
       "    }\n",
       "\n",
       "    .dataframe tbody tr th {\n",
       "        vertical-align: top;\n",
       "    }\n",
       "\n",
       "    .dataframe thead th {\n",
       "        text-align: right;\n",
       "    }\n",
       "</style>\n",
       "<table border=\"1\" class=\"dataframe\">\n",
       "  <thead>\n",
       "    <tr style=\"text-align: right;\">\n",
       "      <th></th>\n",
       "      <th>keyword</th>\n",
       "      <th>location</th>\n",
       "      <th>text</th>\n",
       "      <th>text_length</th>\n",
       "    </tr>\n",
       "    <tr>\n",
       "      <th>id</th>\n",
       "      <th></th>\n",
       "      <th></th>\n",
       "      <th></th>\n",
       "      <th></th>\n",
       "    </tr>\n",
       "  </thead>\n",
       "  <tbody>\n",
       "    <tr>\n",
       "      <th>152</th>\n",
       "      <td>aftershock</td>\n",
       "      <td>Switzerland</td>\n",
       "      <td>320 [IR] ICEMOON [AFTERSHOCK] | http://t.co/THyzOMVWU0 | @djicemoon | #Dubstep #TrapMusic #DnB #EDM #Dance #IcesÛ_ http://t.co/83jOO0xk29</td>\n",
       "      <td>16</td>\n",
       "    </tr>\n",
       "    <tr>\n",
       "      <th>177</th>\n",
       "      <td>aftershock</td>\n",
       "      <td>Switzerland</td>\n",
       "      <td>320 [IR] ICEMOON [AFTERSHOCK] | http://t.co/THyzOMVWU0 | @djicemoon | #Dubstep #TrapMusic #DnB #EDM #Dance #IcesÛ_ http://t.co/83jOO0xk29</td>\n",
       "      <td>16</td>\n",
       "    </tr>\n",
       "    <tr>\n",
       "      <th>408</th>\n",
       "      <td>apocalypse</td>\n",
       "      <td>NaN</td>\n",
       "      <td>#AskConnor there's a zombie apocalypse. the item to your right is your weapon. you're either screwed or you're gonna live.</td>\n",
       "      <td>20</td>\n",
       "    </tr>\n",
       "    <tr>\n",
       "      <th>922</th>\n",
       "      <td>bioterrorism</td>\n",
       "      <td>NaN</td>\n",
       "      <td>To fight bioterrorism sir.</td>\n",
       "      <td>4</td>\n",
       "    </tr>\n",
       "    <tr>\n",
       "      <th>924</th>\n",
       "      <td>bioterrorism</td>\n",
       "      <td>NaN</td>\n",
       "      <td>To fight bioterrorism sir.</td>\n",
       "      <td>4</td>\n",
       "    </tr>\n",
       "    <tr>\n",
       "      <th>1668</th>\n",
       "      <td>bombing</td>\n",
       "      <td>Somewhere on the Earth</td>\n",
       "      <td>70 yrs since the atomic bombing of Hiroshima... Terrible mass murder...</td>\n",
       "      <td>11</td>\n",
       "    </tr>\n",
       "    <tr>\n",
       "      <th>1765</th>\n",
       "      <td>buildings%20burning</td>\n",
       "      <td>US of Eh</td>\n",
       "      <td>.@denisleary Not sure how these folks rush into burning buildings but I'm grateful they do. #TrueHeroes</td>\n",
       "      <td>16</td>\n",
       "    </tr>\n",
       "    <tr>\n",
       "      <th>1947</th>\n",
       "      <td>burning%20buildings</td>\n",
       "      <td>US of Eh</td>\n",
       "      <td>.@denisleary Not sure how these folks rush into burning buildings but I'm grateful they do. #TrueHeroes</td>\n",
       "      <td>16</td>\n",
       "    </tr>\n",
       "    <tr>\n",
       "      <th>1982</th>\n",
       "      <td>bush%20fires</td>\n",
       "      <td>NaN</td>\n",
       "      <td>Bushfire causes first victim in Albania ::  The multiple fires in Albania have caused the first vict http://t.co/yuba6XmBlq #Bush</td>\n",
       "      <td>19</td>\n",
       "    </tr>\n",
       "    <tr>\n",
       "      <th>1998</th>\n",
       "      <td>bush%20fires</td>\n",
       "      <td>NaN</td>\n",
       "      <td>Bushfire causes first victim in Albania ::  The multiple fires in Albania have caused the first vict http://t.co/yuba6XmBlq #Bush</td>\n",
       "      <td>19</td>\n",
       "    </tr>\n",
       "    <tr>\n",
       "      <th>3427</th>\n",
       "      <td>derail</td>\n",
       "      <td>w/ @_ridabot, probably</td>\n",
       "      <td>@PumpkinMari_Bot lemme just derail this real quivk to say. HELL DAMN F</td>\n",
       "      <td>12</td>\n",
       "    </tr>\n",
       "    <tr>\n",
       "      <th>3449</th>\n",
       "      <td>derail</td>\n",
       "      <td>w/ @_ridabot, probably</td>\n",
       "      <td>@PumpkinMari_Bot lemme just derail this real quivk to say. HELL DAMN F</td>\n",
       "      <td>12</td>\n",
       "    </tr>\n",
       "    <tr>\n",
       "      <th>3515</th>\n",
       "      <td>derailment</td>\n",
       "      <td>NaN</td>\n",
       "      <td>Madhya Pradesh Train Derailment: Village Youth Saved Many Lives: A group of villagers saved over 70 passengers' lives after two train...</td>\n",
       "      <td>21</td>\n",
       "    </tr>\n",
       "    <tr>\n",
       "      <th>3546</th>\n",
       "      <td>derailment</td>\n",
       "      <td>NaN</td>\n",
       "      <td>Madhya Pradesh Train Derailment: Village Youth Saved Many Lives: A group of villagers saved over 70 passengers' lives after two train...</td>\n",
       "      <td>21</td>\n",
       "    </tr>\n",
       "    <tr>\n",
       "      <th>3999</th>\n",
       "      <td>disaster</td>\n",
       "      <td>Ottawa</td>\n",
       "      <td>IRIN Asia | Red tape tangles Nepal reconstruction | Nepal | Disaster Risk Reduction | Natural Disasters http://t.co/q7LG6ncf7G</td>\n",
       "      <td>18</td>\n",
       "    </tr>\n",
       "    <tr>\n",
       "      <th>4053</th>\n",
       "      <td>displaced</td>\n",
       "      <td>Pedophile hunting ground</td>\n",
       "      <td>.POTUS #StrategicPatience is a strategy for #Genocide; refugees; IDP Internally displaced people; horror; etc. https://t.co/rqWuoy1fm4</td>\n",
       "      <td>15</td>\n",
       "    </tr>\n",
       "    <tr>\n",
       "      <th>4056</th>\n",
       "      <td>displaced</td>\n",
       "      <td>Pedophile hunting ground</td>\n",
       "      <td>.POTUS #StrategicPatience is a strategy for #Genocide; refugees; IDP Internally displaced people; horror; etc. https://t.co/rqWuoy1fm4</td>\n",
       "      <td>15</td>\n",
       "    </tr>\n",
       "    <tr>\n",
       "      <th>4285</th>\n",
       "      <td>drowning</td>\n",
       "      <td>Liverpool</td>\n",
       "      <td>Boy saves autistic brother from drowning: A nine-year-old in Maine dove into a pool to save his autistic brother from drowning</td>\n",
       "      <td>21</td>\n",
       "    </tr>\n",
       "    <tr>\n",
       "      <th>4286</th>\n",
       "      <td>drowning</td>\n",
       "      <td>NaN</td>\n",
       "      <td>Boy saves autistic brother from drowning: A nine-year-old in Maine dove into a pool to save his autistic brother from drowning</td>\n",
       "      <td>21</td>\n",
       "    </tr>\n",
       "    <tr>\n",
       "      <th>4930</th>\n",
       "      <td>exploded</td>\n",
       "      <td>Ittihad .f.c</td>\n",
       "      <td>that exploded &amp;amp; brought about the\\nbeginning of universe matches what's\\nmentioned in the versethe heaven and Earth\\n(thus the universe)</td>\n",
       "      <td>21</td>\n",
       "    </tr>\n",
       "    <tr>\n",
       "      <th>4949</th>\n",
       "      <td>exploded</td>\n",
       "      <td>NaN</td>\n",
       "      <td>that exploded &amp;amp; brought about the\\nbeginning of universe matches what's\\nmentioned in the versethe heaven and Earth\\n(thus the universe)</td>\n",
       "      <td>21</td>\n",
       "    </tr>\n",
       "    <tr>\n",
       "      <th>5121</th>\n",
       "      <td>fatal</td>\n",
       "      <td>NaN</td>\n",
       "      <td>11-Year-Old Boy Charged With Manslaughter of Toddler: Report: An 11-year-old boy has been charged with manslaughter over the fatal sh...</td>\n",
       "      <td>20</td>\n",
       "    </tr>\n",
       "    <tr>\n",
       "      <th>5123</th>\n",
       "      <td>fatal</td>\n",
       "      <td>Gurgaon</td>\n",
       "      <td>11-Year-Old Boy Charged With Manslaughter of Toddler: Report: An 11-year-old boy has been charged with manslaughter over the fatal sh...</td>\n",
       "      <td>20</td>\n",
       "    </tr>\n",
       "    <tr>\n",
       "      <th>5158</th>\n",
       "      <td>fatal</td>\n",
       "      <td>Baroda</td>\n",
       "      <td>11-Year-Old Boy Charged With Manslaughter of Toddler: Report: An 11-year-old boy has been charged with manslaughter over the fatal sh...</td>\n",
       "      <td>20</td>\n",
       "    </tr>\n",
       "    <tr>\n",
       "      <th>6377</th>\n",
       "      <td>hostages</td>\n",
       "      <td>Rocky Mountains</td>\n",
       "      <td>Sinjar Massacre Yazidis Blast Lack of Action Over Hostages http://t.co/fdU8aCnC2W #denver #billings #rapidcity #seattle #cheyenne #lasvegas</td>\n",
       "      <td>16</td>\n",
       "    </tr>\n",
       "    <tr>\n",
       "      <th>6378</th>\n",
       "      <td>hostages</td>\n",
       "      <td>Rocky Mountains</td>\n",
       "      <td>Sinjar Massacre Yazidis Blast Lack of Action Over Hostages http://t.co/fdU8aCnC2W #denver #billings #rapidcity #seattle #cheyenne #lasvegas</td>\n",
       "      <td>16</td>\n",
       "    </tr>\n",
       "    <tr>\n",
       "      <th>6868</th>\n",
       "      <td>mass%20murder</td>\n",
       "      <td>Somewhere on the Earth</td>\n",
       "      <td>70 yrs since the atomic bombing of Hiroshima... Terrible mass murder...</td>\n",
       "      <td>11</td>\n",
       "    </tr>\n",
       "    <tr>\n",
       "      <th>7217</th>\n",
       "      <td>natural%20disaster</td>\n",
       "      <td>Ottawa</td>\n",
       "      <td>IRIN Asia | Red tape tangles Nepal reconstruction | Nepal | Disaster Risk Reduction | Natural Disasters http://t.co/q7LG6ncf7G</td>\n",
       "      <td>18</td>\n",
       "    </tr>\n",
       "    <tr>\n",
       "      <th>9092</th>\n",
       "      <td>suicide%20bomb</td>\n",
       "      <td>NaN</td>\n",
       "      <td>International News Û¢åÊ'Nigeria suicide bomb kills at least seven at market ' via @233liveOnline. Full story at http://t.co/MtTdvy6141</td>\n",
       "      <td>18</td>\n",
       "    </tr>\n",
       "    <tr>\n",
       "      <th>9105</th>\n",
       "      <td>suicide%20bomb</td>\n",
       "      <td>NaN</td>\n",
       "      <td>reaad/ plsss Pic of 16yr old PKK suicide bomber who detonated bomb in Turkey Army trench released</td>\n",
       "      <td>17</td>\n",
       "    </tr>\n",
       "    <tr>\n",
       "      <th>9108</th>\n",
       "      <td>suicide%20bomb</td>\n",
       "      <td>NaN</td>\n",
       "      <td>reaad/ plsss Pic of 16yr old PKK suicide bomber who detonated bomb in Turkey Army trench released</td>\n",
       "      <td>17</td>\n",
       "    </tr>\n",
       "    <tr>\n",
       "      <th>9127</th>\n",
       "      <td>suicide%20bomb</td>\n",
       "      <td>NaN</td>\n",
       "      <td>International News Û¢åÊ'Nigeria suicide bomb kills at least seven at market ' via @233liveOnline. Full story at http://t.co/MtTdvy6141</td>\n",
       "      <td>18</td>\n",
       "    </tr>\n",
       "    <tr>\n",
       "      <th>9129</th>\n",
       "      <td>suicide%20bomb</td>\n",
       "      <td>Nigeria</td>\n",
       "      <td>#Bestnaijamade: 16yr old PKK suicide bomber who detonated bomb in ... http://t.co/KSAwlYuX02 bestnaijamade bestnaijamade bestnaijamade beÛ_</td>\n",
       "      <td>16</td>\n",
       "    </tr>\n",
       "    <tr>\n",
       "      <th>9138</th>\n",
       "      <td>suicide%20bomb</td>\n",
       "      <td>Nigeria</td>\n",
       "      <td>#Bestnaijamade: 16yr old PKK suicide bomber who detonated bomb in ... http://t.co/KSAwlYuX02 bestnaijamade bestnaijamade bestnaijamade beÛ_</td>\n",
       "      <td>16</td>\n",
       "    </tr>\n",
       "    <tr>\n",
       "      <th>9623</th>\n",
       "      <td>thunderstorm</td>\n",
       "      <td>United States</td>\n",
       "      <td>GSP issues STRONG THUNDERSTORM WILL IMPACT PORTIONS OF NORTHEASTERN PICKENS COUNTY UNTIL 1115 PM EDT for  Greater Pickens Pickens MountainÛ_</td>\n",
       "      <td>20</td>\n",
       "    </tr>\n",
       "    <tr>\n",
       "      <th>9633</th>\n",
       "      <td>thunderstorm</td>\n",
       "      <td>Florence, South Carolina</td>\n",
       "      <td>GSP issues STRONG THUNDERSTORM WILL IMPACT PORTIONS OF NORTHEASTERN PICKENS COUNTY UNTIL 1115 PM EDT for  Greater Pickens Pickens MountainÛ_</td>\n",
       "      <td>20</td>\n",
       "    </tr>\n",
       "    <tr>\n",
       "      <th>10312</th>\n",
       "      <td>weapon</td>\n",
       "      <td>NaN</td>\n",
       "      <td>#AskConnor there's a zombie apocalypse. the item to your right is your weapon. you're either screwed or you're gonna live.</td>\n",
       "      <td>20</td>\n",
       "    </tr>\n",
       "    <tr>\n",
       "      <th>10738</th>\n",
       "      <td>wreckage</td>\n",
       "      <td>India</td>\n",
       "      <td>Wreckage 'Conclusively Confirmed' as From MH370: Malaysia PM</td>\n",
       "      <td>8</td>\n",
       "    </tr>\n",
       "    <tr>\n",
       "      <th>10758</th>\n",
       "      <td>wreckage</td>\n",
       "      <td>India</td>\n",
       "      <td>Wreckage 'Conclusively Confirmed' as From MH370: Malaysia PM</td>\n",
       "      <td>8</td>\n",
       "    </tr>\n",
       "  </tbody>\n",
       "</table>\n",
       "</div>"
      ],
      "text/plain": [
       "                   keyword                  location  \\\n",
       "id                                                     \n",
       "152             aftershock               Switzerland   \n",
       "177             aftershock               Switzerland   \n",
       "408             apocalypse                       NaN   \n",
       "922           bioterrorism                       NaN   \n",
       "924           bioterrorism                       NaN   \n",
       "1668               bombing    Somewhere on the Earth   \n",
       "1765   buildings%20burning                  US of Eh   \n",
       "1947   burning%20buildings                  US of Eh   \n",
       "1982          bush%20fires                       NaN   \n",
       "1998          bush%20fires                       NaN   \n",
       "3427                derail    w/ @_ridabot, probably   \n",
       "3449                derail    w/ @_ridabot, probably   \n",
       "3515            derailment                       NaN   \n",
       "3546            derailment                       NaN   \n",
       "3999              disaster                    Ottawa   \n",
       "4053             displaced  Pedophile hunting ground   \n",
       "4056             displaced  Pedophile hunting ground   \n",
       "4285              drowning                 Liverpool   \n",
       "4286              drowning                       NaN   \n",
       "4930              exploded              Ittihad .f.c   \n",
       "4949              exploded                       NaN   \n",
       "5121                 fatal                       NaN   \n",
       "5123                 fatal                   Gurgaon   \n",
       "5158                 fatal                    Baroda   \n",
       "6377              hostages           Rocky Mountains   \n",
       "6378              hostages           Rocky Mountains   \n",
       "6868         mass%20murder    Somewhere on the Earth   \n",
       "7217    natural%20disaster                    Ottawa   \n",
       "9092        suicide%20bomb                       NaN   \n",
       "9105        suicide%20bomb                       NaN   \n",
       "9108        suicide%20bomb                       NaN   \n",
       "9127        suicide%20bomb                       NaN   \n",
       "9129        suicide%20bomb                   Nigeria   \n",
       "9138        suicide%20bomb                   Nigeria   \n",
       "9623          thunderstorm             United States   \n",
       "9633          thunderstorm  Florence, South Carolina   \n",
       "10312               weapon                       NaN   \n",
       "10738             wreckage                     India   \n",
       "10758             wreckage                     India   \n",
       "\n",
       "                                                                                                                                                text  \\\n",
       "id                                                                                                                                                     \n",
       "152       320 [IR] ICEMOON [AFTERSHOCK] | http://t.co/THyzOMVWU0 | @djicemoon | #Dubstep #TrapMusic #DnB #EDM #Dance #IcesÛ_ http://t.co/83jOO0xk29   \n",
       "177       320 [IR] ICEMOON [AFTERSHOCK] | http://t.co/THyzOMVWU0 | @djicemoon | #Dubstep #TrapMusic #DnB #EDM #Dance #IcesÛ_ http://t.co/83jOO0xk29   \n",
       "408                       #AskConnor there's a zombie apocalypse. the item to your right is your weapon. you're either screwed or you're gonna live.   \n",
       "922                                                                                                                       To fight bioterrorism sir.   \n",
       "924                                                                                                                       To fight bioterrorism sir.   \n",
       "1668                                                                         70 yrs since the atomic bombing of Hiroshima... Terrible mass murder...   \n",
       "1765                                         .@denisleary Not sure how these folks rush into burning buildings but I'm grateful they do. #TrueHeroes   \n",
       "1947                                         .@denisleary Not sure how these folks rush into burning buildings but I'm grateful they do. #TrueHeroes   \n",
       "1982               Bushfire causes first victim in Albania ::  The multiple fires in Albania have caused the first vict http://t.co/yuba6XmBlq #Bush   \n",
       "1998               Bushfire causes first victim in Albania ::  The multiple fires in Albania have caused the first vict http://t.co/yuba6XmBlq #Bush   \n",
       "3427                                                                          @PumpkinMari_Bot lemme just derail this real quivk to say. HELL DAMN F   \n",
       "3449                                                                          @PumpkinMari_Bot lemme just derail this real quivk to say. HELL DAMN F   \n",
       "3515        Madhya Pradesh Train Derailment: Village Youth Saved Many Lives: A group of villagers saved over 70 passengers' lives after two train...   \n",
       "3546        Madhya Pradesh Train Derailment: Village Youth Saved Many Lives: A group of villagers saved over 70 passengers' lives after two train...   \n",
       "3999                  IRIN Asia | Red tape tangles Nepal reconstruction | Nepal | Disaster Risk Reduction | Natural Disasters http://t.co/q7LG6ncf7G   \n",
       "4053          .POTUS #StrategicPatience is a strategy for #Genocide; refugees; IDP Internally displaced people; horror; etc. https://t.co/rqWuoy1fm4   \n",
       "4056          .POTUS #StrategicPatience is a strategy for #Genocide; refugees; IDP Internally displaced people; horror; etc. https://t.co/rqWuoy1fm4   \n",
       "4285                  Boy saves autistic brother from drowning: A nine-year-old in Maine dove into a pool to save his autistic brother from drowning   \n",
       "4286                  Boy saves autistic brother from drowning: A nine-year-old in Maine dove into a pool to save his autistic brother from drowning   \n",
       "4930    that exploded &amp; brought about the\\nbeginning of universe matches what's\\nmentioned in the versethe heaven and Earth\\n(thus the universe)   \n",
       "4949    that exploded &amp; brought about the\\nbeginning of universe matches what's\\nmentioned in the versethe heaven and Earth\\n(thus the universe)   \n",
       "5121        11-Year-Old Boy Charged With Manslaughter of Toddler: Report: An 11-year-old boy has been charged with manslaughter over the fatal sh...   \n",
       "5123        11-Year-Old Boy Charged With Manslaughter of Toddler: Report: An 11-year-old boy has been charged with manslaughter over the fatal sh...   \n",
       "5158        11-Year-Old Boy Charged With Manslaughter of Toddler: Report: An 11-year-old boy has been charged with manslaughter over the fatal sh...   \n",
       "6377     Sinjar Massacre Yazidis Blast Lack of Action Over Hostages http://t.co/fdU8aCnC2W #denver #billings #rapidcity #seattle #cheyenne #lasvegas   \n",
       "6378     Sinjar Massacre Yazidis Blast Lack of Action Over Hostages http://t.co/fdU8aCnC2W #denver #billings #rapidcity #seattle #cheyenne #lasvegas   \n",
       "6868                                                                         70 yrs since the atomic bombing of Hiroshima... Terrible mass murder...   \n",
       "7217                  IRIN Asia | Red tape tangles Nepal reconstruction | Nepal | Disaster Risk Reduction | Natural Disasters http://t.co/q7LG6ncf7G   \n",
       "9092         International News Û¢åÊ'Nigeria suicide bomb kills at least seven at market ' via @233liveOnline. Full story at http://t.co/MtTdvy6141   \n",
       "9105                                               reaad/ plsss Pic of 16yr old PKK suicide bomber who detonated bomb in Turkey Army trench released   \n",
       "9108                                               reaad/ plsss Pic of 16yr old PKK suicide bomber who detonated bomb in Turkey Army trench released   \n",
       "9127         International News Û¢åÊ'Nigeria suicide bomb kills at least seven at market ' via @233liveOnline. Full story at http://t.co/MtTdvy6141   \n",
       "9129    #Bestnaijamade: 16yr old PKK suicide bomber who detonated bomb in ... http://t.co/KSAwlYuX02 bestnaijamade bestnaijamade bestnaijamade beÛ_   \n",
       "9138    #Bestnaijamade: 16yr old PKK suicide bomber who detonated bomb in ... http://t.co/KSAwlYuX02 bestnaijamade bestnaijamade bestnaijamade beÛ_   \n",
       "9623   GSP issues STRONG THUNDERSTORM WILL IMPACT PORTIONS OF NORTHEASTERN PICKENS COUNTY UNTIL 1115 PM EDT for  Greater Pickens Pickens MountainÛ_   \n",
       "9633   GSP issues STRONG THUNDERSTORM WILL IMPACT PORTIONS OF NORTHEASTERN PICKENS COUNTY UNTIL 1115 PM EDT for  Greater Pickens Pickens MountainÛ_   \n",
       "10312                     #AskConnor there's a zombie apocalypse. the item to your right is your weapon. you're either screwed or you're gonna live.   \n",
       "10738                                                                                   Wreckage 'Conclusively Confirmed' as From MH370: Malaysia PM   \n",
       "10758                                                                                   Wreckage 'Conclusively Confirmed' as From MH370: Malaysia PM   \n",
       "\n",
       "       text_length  \n",
       "id                  \n",
       "152             16  \n",
       "177             16  \n",
       "408             20  \n",
       "922              4  \n",
       "924              4  \n",
       "1668            11  \n",
       "1765            16  \n",
       "1947            16  \n",
       "1982            19  \n",
       "1998            19  \n",
       "3427            12  \n",
       "3449            12  \n",
       "3515            21  \n",
       "3546            21  \n",
       "3999            18  \n",
       "4053            15  \n",
       "4056            15  \n",
       "4285            21  \n",
       "4286            21  \n",
       "4930            21  \n",
       "4949            21  \n",
       "5121            20  \n",
       "5123            20  \n",
       "5158            20  \n",
       "6377            16  \n",
       "6378            16  \n",
       "6868            11  \n",
       "7217            18  \n",
       "9092            18  \n",
       "9105            17  \n",
       "9108            17  \n",
       "9127            18  \n",
       "9129            16  \n",
       "9138            16  \n",
       "9623            20  \n",
       "9633            20  \n",
       "10312           20  \n",
       "10738            8  \n",
       "10758            8  "
      ]
     },
     "execution_count": 24,
     "metadata": {},
     "output_type": "execute_result"
    }
   ],
   "source": [
    "test_tweets_dup = test_tweets[test_tweets.duplicated(['text'], keep=False)]\n",
    "test_tweets_dup"
   ]
  },
  {
   "cell_type": "code",
   "execution_count": 25,
   "metadata": {},
   "outputs": [],
   "source": [
    "# No duplicate tweets are dropped from the test set, \n",
    "# as the Kaggle evaluation system expects predictions for a complete test set\n",
    "#test_tweets.drop_duplicates(['text'], inplace=True)"
   ]
  },
  {
   "cell_type": "code",
   "execution_count": 26,
   "metadata": {},
   "outputs": [
    {
     "data": {
      "text/html": [
       "<div>\n",
       "<style scoped>\n",
       "    .dataframe tbody tr th:only-of-type {\n",
       "        vertical-align: middle;\n",
       "    }\n",
       "\n",
       "    .dataframe tbody tr th {\n",
       "        vertical-align: top;\n",
       "    }\n",
       "\n",
       "    .dataframe thead th {\n",
       "        text-align: right;\n",
       "    }\n",
       "</style>\n",
       "<table border=\"1\" class=\"dataframe\">\n",
       "  <thead>\n",
       "    <tr style=\"text-align: right;\">\n",
       "      <th></th>\n",
       "      <th>keyword</th>\n",
       "      <th>location</th>\n",
       "      <th>text</th>\n",
       "      <th>text_length</th>\n",
       "    </tr>\n",
       "    <tr>\n",
       "      <th>id</th>\n",
       "      <th></th>\n",
       "      <th></th>\n",
       "      <th></th>\n",
       "      <th></th>\n",
       "    </tr>\n",
       "  </thead>\n",
       "  <tbody>\n",
       "    <tr>\n",
       "      <th>0</th>\n",
       "      <td>NaN</td>\n",
       "      <td>NaN</td>\n",
       "      <td>Just happened a terrible car crash</td>\n",
       "      <td>6</td>\n",
       "    </tr>\n",
       "    <tr>\n",
       "      <th>2</th>\n",
       "      <td>NaN</td>\n",
       "      <td>NaN</td>\n",
       "      <td>Heard about earthquake is different cities stay safe everyone</td>\n",
       "      <td>9</td>\n",
       "    </tr>\n",
       "    <tr>\n",
       "      <th>3</th>\n",
       "      <td>NaN</td>\n",
       "      <td>NaN</td>\n",
       "      <td>there is a forest fire at spot pond geese are fleeing across the street I cannot save them all</td>\n",
       "      <td>19</td>\n",
       "    </tr>\n",
       "    <tr>\n",
       "      <th>9</th>\n",
       "      <td>NaN</td>\n",
       "      <td>NaN</td>\n",
       "      <td>Apocalypse lighting Spokane wildfires</td>\n",
       "      <td>4</td>\n",
       "    </tr>\n",
       "    <tr>\n",
       "      <th>11</th>\n",
       "      <td>NaN</td>\n",
       "      <td>NaN</td>\n",
       "      <td>Typhoon Soudelor kills 28 in China and Taiwan</td>\n",
       "      <td>8</td>\n",
       "    </tr>\n",
       "    <tr>\n",
       "      <th>...</th>\n",
       "      <td>...</td>\n",
       "      <td>...</td>\n",
       "      <td>...</td>\n",
       "      <td>...</td>\n",
       "    </tr>\n",
       "    <tr>\n",
       "      <th>10861</th>\n",
       "      <td>NaN</td>\n",
       "      <td>NaN</td>\n",
       "      <td>EARTHQUAKE SAFETY LOS ANGELES  SAFETY FASTENERS XrWn</td>\n",
       "      <td>8</td>\n",
       "    </tr>\n",
       "    <tr>\n",
       "      <th>10865</th>\n",
       "      <td>NaN</td>\n",
       "      <td>NaN</td>\n",
       "      <td>Storm in RI worse than last hurricane My cityamp3others hardest hit My yard looks like it was bombed Around 20000K still without power</td>\n",
       "      <td>23</td>\n",
       "    </tr>\n",
       "    <tr>\n",
       "      <th>10868</th>\n",
       "      <td>NaN</td>\n",
       "      <td>NaN</td>\n",
       "      <td>Green Line derailment in Chicago</td>\n",
       "      <td>6</td>\n",
       "    </tr>\n",
       "    <tr>\n",
       "      <th>10874</th>\n",
       "      <td>NaN</td>\n",
       "      <td>NaN</td>\n",
       "      <td>MEG issues Hazardous Weather Outlook HWO</td>\n",
       "      <td>7</td>\n",
       "    </tr>\n",
       "    <tr>\n",
       "      <th>10875</th>\n",
       "      <td>NaN</td>\n",
       "      <td>NaN</td>\n",
       "      <td>CityofCalgary has activated its Municipal Emergency Plan yycstorm</td>\n",
       "      <td>8</td>\n",
       "    </tr>\n",
       "  </tbody>\n",
       "</table>\n",
       "<p>3263 rows × 4 columns</p>\n",
       "</div>"
      ],
      "text/plain": [
       "      keyword location  \\\n",
       "id                       \n",
       "0         NaN      NaN   \n",
       "2         NaN      NaN   \n",
       "3         NaN      NaN   \n",
       "9         NaN      NaN   \n",
       "11        NaN      NaN   \n",
       "...       ...      ...   \n",
       "10861     NaN      NaN   \n",
       "10865     NaN      NaN   \n",
       "10868     NaN      NaN   \n",
       "10874     NaN      NaN   \n",
       "10875     NaN      NaN   \n",
       "\n",
       "                                                                                                                                         text  \\\n",
       "id                                                                                                                                              \n",
       "0                                                                                                          Just happened a terrible car crash   \n",
       "2                                                                               Heard about earthquake is different cities stay safe everyone   \n",
       "3                                              there is a forest fire at spot pond geese are fleeing across the street I cannot save them all   \n",
       "9                                                                                                       Apocalypse lighting Spokane wildfires   \n",
       "11                                                                                              Typhoon Soudelor kills 28 in China and Taiwan   \n",
       "...                                                                                                                                       ...   \n",
       "10861                                                                                    EARTHQUAKE SAFETY LOS ANGELES  SAFETY FASTENERS XrWn   \n",
       "10865  Storm in RI worse than last hurricane My cityamp3others hardest hit My yard looks like it was bombed Around 20000K still without power   \n",
       "10868                                                                                                       Green Line derailment in Chicago    \n",
       "10874                                                                                               MEG issues Hazardous Weather Outlook HWO    \n",
       "10875                                                                       CityofCalgary has activated its Municipal Emergency Plan yycstorm   \n",
       "\n",
       "       text_length  \n",
       "id                  \n",
       "0                6  \n",
       "2                9  \n",
       "3               19  \n",
       "9                4  \n",
       "11               8  \n",
       "...            ...  \n",
       "10861            8  \n",
       "10865           23  \n",
       "10868            6  \n",
       "10874            7  \n",
       "10875            8  \n",
       "\n",
       "[3263 rows x 4 columns]"
      ]
     },
     "execution_count": 26,
     "metadata": {},
     "output_type": "execute_result"
    }
   ],
   "source": [
    "test_tweets['text'] = test_tweets['text'].apply(lambda text: remove_special_chars(text))\n",
    "test_tweets['text'] = test_tweets['text'].apply(lambda text: remove_url(text))\n",
    "test_tweets"
   ]
  },
  {
   "cell_type": "markdown",
   "metadata": {},
   "source": [
    "### 4.3 Vectorization\n",
    "\n",
    "In this section, the text of each tweet will be vectorized, or turned into a form that can be fed into a neural network.\n"
   ]
  },
  {
   "cell_type": "markdown",
   "metadata": {},
   "source": [
    "#### 4.3.1 Step 1: Obtaining values from DataFrames\n",
    "\n",
    "The training and test data values from the pandas DataFrames are copied into `train_text`, `train_labels` and `test_text` numpy arrays. Only the `text` and `target` values are used."
   ]
  },
  {
   "cell_type": "code",
   "execution_count": 27,
   "metadata": {},
   "outputs": [],
   "source": [
    "train_text = train_tweets['text'].values\n",
    "train_labels = train_tweets['target'].values\n",
    "\n",
    "test_text = test_tweets['text'].values"
   ]
  },
  {
   "cell_type": "code",
   "execution_count": 28,
   "metadata": {},
   "outputs": [
    {
     "name": "stdout",
     "output_type": "stream",
     "text": [
      "Train text shape:  (7502,)\n",
      "Train labels shape:  (7502,)\n",
      "Test text shape:  (3263,)\n"
     ]
    }
   ],
   "source": [
    "print('Train text shape: ', train_text.shape)\n",
    "print('Train labels shape: ', train_labels.shape)\n",
    "\n",
    "print('Test text shape: ', test_text.shape)"
   ]
  },
  {
   "cell_type": "markdown",
   "metadata": {},
   "source": [
    "#### 4.3.2 Step 2: Tokenizing the tweets\n",
    "\n",
    "A Tokenizer object `tokenizer` is created that looks through all of the tweets in `train_text`, and only takes into account the 10000 most common words (the value of `max_words`). The Tokenizer turns the text of each tweet into a sequence of numbers, where each number corresponds to a word. The sequences are then either padded with zeros, or truncated to a maximum length of 30 words (`maxlen`). A maximum length of 30 words is chosen since 31 words is the maximum present in the training and test sets, so selecting 30 words captures the omst words in the most tweets, resulting in minimal data loss.\n",
    "\n"
   ]
  },
  {
   "cell_type": "code",
   "execution_count": 29,
   "metadata": {},
   "outputs": [
    {
     "name": "stdout",
     "output_type": "stream",
     "text": [
      "Number of unique tokens:  17965\n",
      "Shape of padded sequences:  (7502, 30)\n",
      "Shape of labels:  (7502,)\n"
     ]
    }
   ],
   "source": [
    "from keras.preprocessing.text import Tokenizer\n",
    "from keras.preprocessing.sequence import pad_sequences\n",
    "\n",
    "# maximum text length to consider\n",
    "maxlen = 30\n",
    "# maximum number of words in training set to consider, or the vocabulary size for this problem\n",
    "max_words = 10000\n",
    "\n",
    "tokenizer = Tokenizer(num_words=max_words)\n",
    "tokenizer.fit_on_texts(train_text)\n",
    "sequences = tokenizer.texts_to_sequences(train_text)\n",
    "\n",
    "word_index = tokenizer.word_index\n",
    "print('Number of unique tokens: ', len(word_index))\n",
    "\n",
    "padded_sequences = pad_sequences(sequences, maxlen=maxlen)\n",
    "print('Shape of padded sequences: ', padded_sequences.shape)\n",
    "print('Shape of labels: ', train_labels.shape)"
   ]
  },
  {
   "cell_type": "markdown",
   "metadata": {},
   "source": [
    "The variable `word_index` is a dictionary containing the mapping between words in the text and their tokens (numbers)."
   ]
  },
  {
   "cell_type": "code",
   "execution_count": 30,
   "metadata": {},
   "outputs": [
    {
     "data": {
      "text/plain": [
       "[('the', 1), ('a', 2), ('in', 3), ('to', 4), ('of', 5)]"
      ]
     },
     "execution_count": 30,
     "metadata": {},
     "output_type": "execute_result"
    }
   ],
   "source": [
    "list(word_index.items())[:5]"
   ]
  },
  {
   "cell_type": "markdown",
   "metadata": {},
   "source": [
    "Below is an example of a tokenized tweet padded to a maximum length of 30 words, and its corresponding label:"
   ]
  },
  {
   "cell_type": "code",
   "execution_count": 31,
   "metadata": {},
   "outputs": [
    {
     "data": {
      "text/plain": [
       "array([   0,    0,    0,    0,    0,    0,    0,    0,    0,    0,    0,\n",
       "          0,    0,    0,    0,    0,    0,  105, 4369,   21,    1,  846,\n",
       "          5,   18,  244,  123, 2030, 4370,   68,   37])"
      ]
     },
     "execution_count": 31,
     "metadata": {},
     "output_type": "execute_result"
    }
   ],
   "source": [
    "padded_sequences[0]"
   ]
  },
  {
   "cell_type": "code",
   "execution_count": 32,
   "metadata": {},
   "outputs": [
    {
     "data": {
      "text/plain": [
       "1"
      ]
     },
     "execution_count": 32,
     "metadata": {},
     "output_type": "execute_result"
    }
   ],
   "source": [
    "train_labels[0]"
   ]
  },
  {
   "cell_type": "markdown",
   "metadata": {},
   "source": [
    "#### 4.3.3 Step 3: Creating training, validation and test sets\n",
    "\n",
    "The number of validation samples `validation_samples` is set to 1000. The padded sequences from Step 2 are randomly shuffled and then split into training and validation sets `x_train`/`y_train` and `x_val`/`y_val`. Finally, the test data is tokenized in a similar manner as the training data, creating `x_test`."
   ]
  },
  {
   "cell_type": "code",
   "execution_count": 33,
   "metadata": {},
   "outputs": [],
   "source": [
    "# number of validation samples\n",
    "validation_samples = 1000\n",
    "# number of training samples (recall total_train_tweet_count variable from above)\n",
    "training_samples = len(train_tweets) - validation_samples\n",
    "\n",
    "np.random.seed(103)\n",
    "indices = np.arange(padded_sequences.shape[0])\n",
    "np.random.shuffle(indices)\n",
    "padded_sequences = padded_sequences[indices]\n",
    "train_labels = train_labels[indices]\n",
    "\n",
    "x_train = padded_sequences[:training_samples]\n",
    "y_train = train_labels[:training_samples]\n",
    "\n",
    "x_val = padded_sequences[training_samples : training_samples + validation_samples]\n",
    "y_val = train_labels[training_samples : training_samples + validation_samples]"
   ]
  },
  {
   "cell_type": "code",
   "execution_count": 34,
   "metadata": {},
   "outputs": [
    {
     "name": "stdout",
     "output_type": "stream",
     "text": [
      "x_train shape:  (6502, 30)\n",
      "y_train shape:  (6502,)\n",
      "x_val shape:  (1000, 30)\n",
      "y_val shape:  (1000,)\n"
     ]
    }
   ],
   "source": [
    "print('x_train shape: ', x_train.shape)\n",
    "print('y_train shape: ', y_train.shape)\n",
    "\n",
    "print('x_val shape: ', x_val.shape)\n",
    "print('y_val shape: ', y_val.shape)"
   ]
  },
  {
   "cell_type": "code",
   "execution_count": 35,
   "metadata": {},
   "outputs": [],
   "source": [
    "# Process test data\n",
    "# Note that tokenizer remains fitted to training data, a new tokenizer object is not created for the test data\n",
    "# Note that there is no y_test, as there are no test labels provided in the dataset for this problem\n",
    "\n",
    "test_sequences = tokenizer.texts_to_sequences(test_text)\n",
    "x_test = pad_sequences(test_sequences, maxlen=maxlen)"
   ]
  },
  {
   "cell_type": "code",
   "execution_count": 36,
   "metadata": {},
   "outputs": [
    {
     "name": "stdout",
     "output_type": "stream",
     "text": [
      "x_test shape:  (3263, 30)\n"
     ]
    }
   ],
   "source": [
    "print('x_test shape: ', x_test.shape)"
   ]
  },
  {
   "cell_type": "markdown",
   "metadata": {},
   "source": [
    "## 5. Develop a baseline model\n",
    "\n",
    "To begin experimenting with different models, a simple baseline model is developed. In this case there are actually two baseline models developed, one that learns word embeddings from the training data, and one that uses pretrained word embeddings. Word embeddings are learned representations of words, where words with similar meanings are given similar numerical encodings. Word embeddings are stored in an embedding matrix, and so two words that are encoded with vectors that are close to each other will have similar meanings.\n",
    "\n",
    "Since the training set only contains 6502 samples of 30 words it may not be large enough to learn effective representations of the words, so to compare a second baseline model will be developed using pretrained embeddings, and will be explained below."
   ]
  },
  {
   "cell_type": "markdown",
   "metadata": {},
   "source": [
    "### 5.1 Baseline model using learned word embeddings\n",
    "\n",
    "The baseline model using learned word embeddings utilizes the Keras Embedding layer, followed by a hidden Dense layer and finally a Dense output layer with sigmoid activation, since this problem is a binary classification. \n",
    "\n",
    "The Embedding layer parameters are set to expect 10000 maximum word tokens (`max_words`), an embedding dimension of 100 (to match the baseline model using pretrained word embeddings, described in the next section) and an input length of 30 words (`maxlen`). The Embedding layer takes in data of shape (number of samples, sequence length) and outputs data with a shape of (number of samples, sequence length, embedding dimension). The embedding dimension is the length of the vectors used to represent words.\n",
    "\n",
    "As an initial guess, the model is trained for a small number of epochs, in this case 10."
   ]
  },
  {
   "cell_type": "code",
   "execution_count": 37,
   "metadata": {},
   "outputs": [
    {
     "name": "stdout",
     "output_type": "stream",
     "text": [
      "Model: \"sequential\"\n",
      "_________________________________________________________________\n",
      "Layer (type)                 Output Shape              Param #   \n",
      "=================================================================\n",
      "embedding (Embedding)        (None, 30, 100)           1000000   \n",
      "_________________________________________________________________\n",
      "flatten (Flatten)            (None, 3000)              0         \n",
      "_________________________________________________________________\n",
      "dense (Dense)                (None, 32)                96032     \n",
      "_________________________________________________________________\n",
      "dense_1 (Dense)              (None, 1)                 33        \n",
      "=================================================================\n",
      "Total params: 1,096,065\n",
      "Trainable params: 1,096,065\n",
      "Non-trainable params: 0\n",
      "_________________________________________________________________\n"
     ]
    }
   ],
   "source": [
    "from keras.models import Sequential\n",
    "from keras.layers import Embedding, Flatten, Dense\n",
    "\n",
    "model = Sequential()\n",
    "model.add(Embedding(max_words, 100, input_length=maxlen))\n",
    "model.add(Flatten())\n",
    "model.add(Dense(32, activation='relu'))\n",
    "model.add(Dense(1, activation='sigmoid'))\n",
    "model.summary()"
   ]
  },
  {
   "cell_type": "code",
   "execution_count": 38,
   "metadata": {},
   "outputs": [],
   "source": [
    "model.compile(optimizer='adam', \n",
    "              loss='binary_crossentropy', \n",
    "              metrics=['acc'])"
   ]
  },
  {
   "cell_type": "code",
   "execution_count": 39,
   "metadata": {},
   "outputs": [
    {
     "name": "stdout",
     "output_type": "stream",
     "text": [
      "Epoch 1/10\n",
      "51/51 [==============================] - 1s 25ms/step - loss: 0.6584 - acc: 0.5820 - val_loss: 0.6049 - val_acc: 0.6400\n",
      "Epoch 2/10\n",
      "51/51 [==============================] - 1s 17ms/step - loss: 0.4865 - acc: 0.7936 - val_loss: 0.4796 - val_acc: 0.7820\n",
      "Epoch 3/10\n",
      "51/51 [==============================] - 1s 20ms/step - loss: 0.2194 - acc: 0.9269 - val_loss: 0.5031 - val_acc: 0.7720\n",
      "Epoch 4/10\n",
      "51/51 [==============================] - 1s 19ms/step - loss: 0.1044 - acc: 0.9695 - val_loss: 0.5638 - val_acc: 0.7770\n",
      "Epoch 5/10\n",
      "51/51 [==============================] - 1s 22ms/step - loss: 0.0681 - acc: 0.9762 - val_loss: 0.6190 - val_acc: 0.7820\n",
      "Epoch 6/10\n",
      "51/51 [==============================] - 1s 20ms/step - loss: 0.0592 - acc: 0.9803 - val_loss: 0.6463 - val_acc: 0.7760\n",
      "Epoch 7/10\n",
      "51/51 [==============================] - 1s 20ms/step - loss: 0.0545 - acc: 0.9809 - val_loss: 0.6691 - val_acc: 0.7730\n",
      "Epoch 8/10\n",
      "51/51 [==============================] - 1s 20ms/step - loss: 0.0517 - acc: 0.9822 - val_loss: 0.6738 - val_acc: 0.7530\n",
      "Epoch 9/10\n",
      "51/51 [==============================] - 1s 18ms/step - loss: 0.0441 - acc: 0.9831 - val_loss: 0.6932 - val_acc: 0.7630\n",
      "Epoch 10/10\n",
      "51/51 [==============================] - 1s 21ms/step - loss: 0.0446 - acc: 0.9834 - val_loss: 0.7130 - val_acc: 0.7670\n"
     ]
    }
   ],
   "source": [
    "history = model.fit(x_train, y_train, epochs=10, batch_size=128, validation_data=(x_val,y_val))"
   ]
  },
  {
   "cell_type": "markdown",
   "metadata": {},
   "source": [
    "To evaluate the model performance after training, several functions are created to make it easier to evaluate subsequent models that are developed. The functions are:\n",
    "\n",
    "1. `create_val_plot` - generates training and validation loss and accuracy plots\n",
    "2. `convert_to_classes` - converts class probabilities generated from the sigmoid activated output layer into class labels (1 for real disaster, 0 for no disaster)\n",
    "3. `print_metrics` - uses scikit-learn metric functions (see https://scikit-learn.org/stable/modules/model_evaluation.html#classification-metrics) to evaluate model performance on the validation set\n",
    "4. `evaluate_model` - combines the previous 3 functions into one function call"
   ]
  },
  {
   "cell_type": "code",
   "execution_count": 40,
   "metadata": {},
   "outputs": [],
   "source": [
    "def create_val_plot(model_history):\n",
    "        \n",
    "    model_history = model_history.history\n",
    "\n",
    "    # Training and validation loss plot\n",
    "    loss_values = model_history['loss']\n",
    "    val_loss_values = model_history['val_loss']\n",
    "\n",
    "    epochs = range(1, len(loss_values) + 1)\n",
    "    \n",
    "    plt.figure()\n",
    "    plt.plot(epochs, loss_values, 'bo', label='Training Loss')\n",
    "    plt.plot(epochs, val_loss_values, 'b', label='Validation Loss')\n",
    "    plt.title('Training and Validation Loss')\n",
    "    plt.xlabel('Epochs')\n",
    "    plt.ylabel('Loss')\n",
    "    plt.legend()\n",
    "        \n",
    "    # Training and validation accuracy plot\n",
    "    acc = model_history['acc']\n",
    "    val_acc = model_history['val_acc']\n",
    "\n",
    "    epochs = range(1, len(acc) + 1)\n",
    "    \n",
    "    plt.figure()\n",
    "    plt.plot(epochs, acc, 'bo', label='Training Accuracy')\n",
    "    plt.plot(epochs, val_acc, 'b', label='Validation Accuracy')\n",
    "    plt.title('Training and Validation Accuracy')\n",
    "    plt.xlabel('Epochs')\n",
    "    plt.ylabel('Accuracy')\n",
    "    plt.legend()"
   ]
  },
  {
   "cell_type": "code",
   "execution_count": 41,
   "metadata": {},
   "outputs": [],
   "source": [
    "def convert_to_classes(predictions):\n",
    "    class_array = np.zeros(predictions.shape)\n",
    "    threshold = 0.5\n",
    "    \n",
    "    for i in range(0, len(predictions)):\n",
    "        if predictions[i] >= threshold:\n",
    "            class_array[i] = 1\n",
    "        else:\n",
    "            class_array[i] = 0\n",
    "            \n",
    "    return class_array"
   ]
  },
  {
   "cell_type": "code",
   "execution_count": 42,
   "metadata": {},
   "outputs": [],
   "source": [
    "def print_metrics(y_true, y_pred):\n",
    "\n",
    "    from sklearn.metrics import f1_score, classification_report, confusion_matrix\n",
    "\n",
    "    print('Classification Report:')\n",
    "    print(classification_report(y_true, y_pred))\n",
    "\n",
    "    print('Confusion Matrix:')\n",
    "    print(confusion_matrix(y_true, y_pred))\n",
    "    print('\\n')\n",
    "\n",
    "    print('F1 Score: ', round(f1_score(y_true, y_pred), 5))"
   ]
  },
  {
   "cell_type": "code",
   "execution_count": 43,
   "metadata": {},
   "outputs": [],
   "source": [
    "def evaluate_model(model_history):\n",
    "    \n",
    "    # Plot model training plots\n",
    "    create_val_plot(model_history)\n",
    "    \n",
    "    # Generate predictions, convert from probabilities to class labels\n",
    "    val_predictions = model.predict(x_val)\n",
    "    val_predictions = convert_to_classes(val_predictions)\n",
    "    \n",
    "    # Print model performance metrics\n",
    "    print_metrics(y_true=y_val, y_pred=val_predictions)"
   ]
  },
  {
   "cell_type": "code",
   "execution_count": 44,
   "metadata": {},
   "outputs": [
    {
     "name": "stdout",
     "output_type": "stream",
     "text": [
      "Classification Report:\n",
      "              precision    recall  f1-score   support\n",
      "\n",
      "           0       0.78      0.84      0.81       590\n",
      "           1       0.74      0.66      0.70       410\n",
      "\n",
      "    accuracy                           0.77      1000\n",
      "   macro avg       0.76      0.75      0.75      1000\n",
      "weighted avg       0.77      0.77      0.76      1000\n",
      "\n",
      "Confusion Matrix:\n",
      "[[497  93]\n",
      " [140 270]]\n",
      "\n",
      "\n",
      "F1 Score:  0.69858\n"
     ]
    },
    {
     "data": {
      "image/png": "[encoded data removed]",
      "text/plain": [
       "<Figure size 432x288 with 1 Axes>"
      ]
     },
     "metadata": {
      "needs_background": "light"
     },
     "output_type": "display_data"
    },
    {
     "data": {
      "image/png": "[encoded data removed]",
      "text/plain": [
       "<Figure size 432x288 with 1 Axes>"
      ]
     },
     "metadata": {
      "needs_background": "light"
     },
     "output_type": "display_data"
    }
   ],
   "source": [
    "evaluate_model(model_history=history)"
   ]
  },
  {
   "cell_type": "markdown",
   "metadata": {},
   "source": [
    "The model has an F1 score of 0.69858, and begins to overfit after 2 epochs, as evidenced by the validation accuracy not improving."
   ]
  },
  {
   "cell_type": "markdown",
   "metadata": {},
   "source": [
    "### 5.2 Baseline model using pretrained word embeddings\n",
    "\n",
    "A second baseline model is developed using pretrained word embeddings from the Global Vectors for Word Representation database (GloVe, available at https://nlp.stanford.edu/projects/glove/). The GloVe embeddings are generated from a much larger dataset than what is used in this problem, and have the advantage of capturing word representations that are transferrable to this problem. The 100 dimensional embeddings file was downloaded (glove.6B.zip) and converted into an embeddings index using the code below:"
   ]
  },
  {
   "cell_type": "code",
   "execution_count": 45,
   "metadata": {},
   "outputs": [
    {
     "name": "stdout",
     "output_type": "stream",
     "text": [
      "Found 400000 word vectors.\n"
     ]
    }
   ],
   "source": [
    "embeddings_index = {}\n",
    "glove_file = open('glove.6B.100d.txt', encoding='utf8')\n",
    "for line in glove_file:\n",
    "    values = line.split()\n",
    "    word = values[0]\n",
    "    coefs = np.asarray(values[1:], dtype='float32')\n",
    "    embeddings_index[word] = coefs\n",
    "glove_file.close()\n",
    "\n",
    "print('Found {} word vectors.'.format(len(embeddings_index)))"
   ]
  },
  {
   "cell_type": "markdown",
   "metadata": {},
   "source": [
    "The `embeddings_index` dictionary shows how words are stored as embedding vector representations:"
   ]
  },
  {
   "cell_type": "code",
   "execution_count": 46,
   "metadata": {},
   "outputs": [
    {
     "data": {
      "text/plain": [
       "('the',\n",
       " array([-0.038194, -0.24487 ,  0.72812 , -0.39961 ,  0.083172,  0.043953,\n",
       "        -0.39141 ,  0.3344  , -0.57545 ,  0.087459,  0.28787 , -0.06731 ,\n",
       "         0.30906 , -0.26384 , -0.13231 , -0.20757 ,  0.33395 , -0.33848 ,\n",
       "        -0.31743 , -0.48336 ,  0.1464  , -0.37304 ,  0.34577 ,  0.052041,\n",
       "         0.44946 , -0.46971 ,  0.02628 , -0.54155 , -0.15518 , -0.14107 ,\n",
       "        -0.039722,  0.28277 ,  0.14393 ,  0.23464 , -0.31021 ,  0.086173,\n",
       "         0.20397 ,  0.52624 ,  0.17164 , -0.082378, -0.71787 , -0.41531 ,\n",
       "         0.20335 , -0.12763 ,  0.41367 ,  0.55187 ,  0.57908 , -0.33477 ,\n",
       "        -0.36559 , -0.54857 , -0.062892,  0.26584 ,  0.30205 ,  0.99775 ,\n",
       "        -0.80481 , -3.0243  ,  0.01254 , -0.36942 ,  2.2167  ,  0.72201 ,\n",
       "        -0.24978 ,  0.92136 ,  0.034514,  0.46745 ,  1.1079  , -0.19358 ,\n",
       "        -0.074575,  0.23353 , -0.052062, -0.22044 ,  0.057162, -0.15806 ,\n",
       "        -0.30798 , -0.41625 ,  0.37972 ,  0.15006 , -0.53212 , -0.2055  ,\n",
       "        -1.2526  ,  0.071624,  0.70565 ,  0.49744 , -0.42063 ,  0.26148 ,\n",
       "        -1.538   , -0.30223 , -0.073438, -0.28312 ,  0.37104 , -0.25217 ,\n",
       "         0.016215, -0.017099, -0.38984 ,  0.87424 , -0.72569 , -0.51058 ,\n",
       "        -0.52028 , -0.1459  ,  0.8278  ,  0.27062 ], dtype=float32))"
      ]
     },
     "execution_count": 46,
     "metadata": {},
     "output_type": "execute_result"
    }
   ],
   "source": [
    "list(embeddings_index.items())[0]"
   ]
  },
  {
   "cell_type": "markdown",
   "metadata": {},
   "source": [
    "The following code creates an embedding matrix containing the pretrained weights that will be used in the Embedding layer of the neural network. For each word in the `word_index` generated by the Tokenizer in Section 4.3.2, its corresponding word embedding vector `embedding_vector` is created from its `embeddings_index` dictionary mapping. The `embedding_dimension` is set to 100, and as before only the 10000 top occuring words (`max_words`) are considered. As a result, a matrix of shape (10000, 100) is created that represents pretrained word embeddings."
   ]
  },
  {
   "cell_type": "code",
   "execution_count": 47,
   "metadata": {},
   "outputs": [],
   "source": [
    "embedding_dim = 100\n",
    "\n",
    "embedding_matrix = np.zeros((max_words, embedding_dim))\n",
    "for word, i in word_index.items():\n",
    "    if i < max_words:\n",
    "        embedding_vector = embeddings_index.get(word)\n",
    "        if embedding_vector is not None:\n",
    "            embedding_matrix[i] = embedding_vector"
   ]
  },
  {
   "cell_type": "code",
   "execution_count": 48,
   "metadata": {},
   "outputs": [
    {
     "data": {
      "text/plain": [
       "(10000, 100)"
      ]
     },
     "execution_count": 48,
     "metadata": {},
     "output_type": "execute_result"
    }
   ],
   "source": [
    "embedding_matrix.shape"
   ]
  },
  {
   "cell_type": "markdown",
   "metadata": {},
   "source": [
    "The neural network configuration is identical to the first baseline model:"
   ]
  },
  {
   "cell_type": "code",
   "execution_count": 49,
   "metadata": {},
   "outputs": [
    {
     "name": "stdout",
     "output_type": "stream",
     "text": [
      "Model: \"sequential_1\"\n",
      "_________________________________________________________________\n",
      "Layer (type)                 Output Shape              Param #   \n",
      "=================================================================\n",
      "embedding_1 (Embedding)      (None, 30, 100)           1000000   \n",
      "_________________________________________________________________\n",
      "flatten_1 (Flatten)          (None, 3000)              0         \n",
      "_________________________________________________________________\n",
      "dense_2 (Dense)              (None, 32)                96032     \n",
      "_________________________________________________________________\n",
      "dense_3 (Dense)              (None, 1)                 33        \n",
      "=================================================================\n",
      "Total params: 1,096,065\n",
      "Trainable params: 1,096,065\n",
      "Non-trainable params: 0\n",
      "_________________________________________________________________\n"
     ]
    }
   ],
   "source": [
    "model = Sequential()\n",
    "model.add(Embedding(max_words, embedding_dim, input_length=maxlen))\n",
    "model.add(Flatten())\n",
    "model.add(Dense(32, activation='relu'))\n",
    "model.add(Dense(1, activation='sigmoid'))\n",
    "model.summary()"
   ]
  },
  {
   "cell_type": "markdown",
   "metadata": {},
   "source": [
    "However, the pretrained GloVe embeddings in the first layer must be 'frozen', or set constant, otherwise they will be trained along with the rest of the network and their representations will be lost."
   ]
  },
  {
   "cell_type": "code",
   "execution_count": 50,
   "metadata": {},
   "outputs": [],
   "source": [
    "# freeze the GloVe embeddings\n",
    "model.layers[0].set_weights([embedding_matrix])\n",
    "model.layers[0].trainable = False"
   ]
  },
  {
   "cell_type": "code",
   "execution_count": 51,
   "metadata": {},
   "outputs": [],
   "source": [
    "model.compile(optimizer='adam', \n",
    "              loss='binary_crossentropy', \n",
    "              metrics=['acc'])"
   ]
  },
  {
   "cell_type": "code",
   "execution_count": 52,
   "metadata": {},
   "outputs": [
    {
     "name": "stdout",
     "output_type": "stream",
     "text": [
      "Epoch 1/10\n",
      "51/51 [==============================] - 0s 6ms/step - loss: 0.5289 - acc: 0.7464 - val_loss: 0.4622 - val_acc: 0.7890\n",
      "Epoch 2/10\n",
      "51/51 [==============================] - 0s 4ms/step - loss: 0.4016 - acc: 0.8254 - val_loss: 0.4490 - val_acc: 0.8000\n",
      "Epoch 3/10\n",
      "51/51 [==============================] - 0s 4ms/step - loss: 0.3476 - acc: 0.8553 - val_loss: 0.4435 - val_acc: 0.8070\n",
      "Epoch 4/10\n",
      "51/51 [==============================] - 0s 3ms/step - loss: 0.3091 - acc: 0.8753 - val_loss: 0.4588 - val_acc: 0.7950\n",
      "Epoch 5/10\n",
      "51/51 [==============================] - 0s 4ms/step - loss: 0.2679 - acc: 0.8988 - val_loss: 0.4657 - val_acc: 0.8030\n",
      "Epoch 6/10\n",
      "51/51 [==============================] - 0s 3ms/step - loss: 0.2363 - acc: 0.9149 - val_loss: 0.5009 - val_acc: 0.7860\n",
      "Epoch 7/10\n",
      "51/51 [==============================] - 0s 3ms/step - loss: 0.2056 - acc: 0.9320 - val_loss: 0.5110 - val_acc: 0.8080\n",
      "Epoch 8/10\n",
      "51/51 [==============================] - 0s 3ms/step - loss: 0.1893 - acc: 0.9349 - val_loss: 0.5283 - val_acc: 0.7900\n",
      "Epoch 9/10\n",
      "51/51 [==============================] - 0s 5ms/step - loss: 0.1600 - acc: 0.9488 - val_loss: 0.5457 - val_acc: 0.7800\n",
      "Epoch 10/10\n",
      "51/51 [==============================] - 0s 4ms/step - loss: 0.1464 - acc: 0.9589 - val_loss: 0.5730 - val_acc: 0.8010\n"
     ]
    }
   ],
   "source": [
    "history = model.fit(x_train, y_train, epochs=10, batch_size=128, validation_data=(x_val,y_val))"
   ]
  },
  {
   "cell_type": "code",
   "execution_count": 53,
   "metadata": {},
   "outputs": [
    {
     "name": "stdout",
     "output_type": "stream",
     "text": [
      "Classification Report:\n",
      "              precision    recall  f1-score   support\n",
      "\n",
      "           0       0.81      0.86      0.84       590\n",
      "           1       0.78      0.71      0.75       410\n",
      "\n",
      "    accuracy                           0.80      1000\n",
      "   macro avg       0.80      0.79      0.79      1000\n",
      "weighted avg       0.80      0.80      0.80      1000\n",
      "\n",
      "Confusion Matrix:\n",
      "[[509  81]\n",
      " [118 292]]\n",
      "\n",
      "\n",
      "F1 Score:  0.74585\n"
     ]
    },
    {
     "data": {
      "image/png": "[encoded data removed]",
      "text/plain": [
       "<Figure size 432x288 with 1 Axes>"
      ]
     },
     "metadata": {
      "needs_background": "light"
     },
     "output_type": "display_data"
    },
    {
     "data": {
      "image/png": "[encoded data removed]",
      "text/plain": [
       "<Figure size 432x288 with 1 Axes>"
      ]
     },
     "metadata": {
      "needs_background": "light"
     },
     "output_type": "display_data"
    }
   ],
   "source": [
    "evaluate_model(model_history=history)"
   ]
  },
  {
   "cell_type": "markdown",
   "metadata": {},
   "source": [
    "Using pretrained word embeddings results in a slight improvement in the F1 score, from 0.69858 to 0.74585. It still appears that the model is overfitting after 2 epochs, so the next sections will address how the F1 score is improved while reducing overfitting. Based on the results of the two baseline models it is still not clear if pretrained word embeddings are a benefit for this problem."
   ]
  },
  {
   "cell_type": "markdown",
   "metadata": {},
   "source": [
    "## 6. Scale up - developing a model that overfits\n",
    "\n",
    "The baseline models began overfitting after only 2 epochs. To develop a model that has higher accuracy yet does not overfit to the training data, it is necessary to use a different type of model. In this section, a Long Short Term (LSTM) hidden layer will be used instead of a Dense hidden layer, resulting in a Recurrent Neural Network (RNN). The LSTM layer is more suitable for modelling text sequences because it saves information from earlier in the sequence for later, carrying information across each step in the text sequence.\n",
    "\n",
    "Since it is still not clear whether pretrained word embeddings are a benefit for this problem, two identical model structures will be trained using 32 LSTM units, however the first will learn word embeddings and the second will use pretrained GloVe embeddings as before."
   ]
  },
  {
   "cell_type": "markdown",
   "metadata": {},
   "source": [
    "### 6.1 LSTM model using learned word embeddings"
   ]
  },
  {
   "cell_type": "code",
   "execution_count": 54,
   "metadata": {},
   "outputs": [
    {
     "name": "stdout",
     "output_type": "stream",
     "text": [
      "Model: \"sequential_2\"\n",
      "_________________________________________________________________\n",
      "Layer (type)                 Output Shape              Param #   \n",
      "=================================================================\n",
      "embedding_2 (Embedding)      (None, 30, 100)           1000000   \n",
      "_________________________________________________________________\n",
      "lstm (LSTM)                  (None, 32)                17024     \n",
      "_________________________________________________________________\n",
      "dense_4 (Dense)              (None, 1)                 33        \n",
      "=================================================================\n",
      "Total params: 1,017,057\n",
      "Trainable params: 1,017,057\n",
      "Non-trainable params: 0\n",
      "_________________________________________________________________\n"
     ]
    }
   ],
   "source": [
    "from keras.layers import LSTM\n",
    "\n",
    "model = Sequential()\n",
    "model.add(Embedding(max_words, embedding_dim, input_length=maxlen))\n",
    "model.add(LSTM(32))\n",
    "model.add(Dense(1, activation='sigmoid'))\n",
    "model.summary()"
   ]
  },
  {
   "cell_type": "code",
   "execution_count": 55,
   "metadata": {},
   "outputs": [],
   "source": [
    "model.compile(optimizer='adam', \n",
    "              loss='binary_crossentropy', \n",
    "              metrics=['acc'])"
   ]
  },
  {
   "cell_type": "code",
   "execution_count": 56,
   "metadata": {},
   "outputs": [
    {
     "name": "stdout",
     "output_type": "stream",
     "text": [
      "Epoch 1/10\n",
      "51/51 [==============================] - 2s 31ms/step - loss: 0.6293 - acc: 0.6469 - val_loss: 0.5227 - val_acc: 0.7860\n",
      "Epoch 2/10\n",
      "51/51 [==============================] - 1s 25ms/step - loss: 0.4005 - acc: 0.8365 - val_loss: 0.4525 - val_acc: 0.7900\n",
      "Epoch 3/10\n",
      "51/51 [==============================] - 1s 28ms/step - loss: 0.2668 - acc: 0.8970 - val_loss: 0.4881 - val_acc: 0.7890\n",
      "Epoch 4/10\n",
      "51/51 [==============================] - 1s 27ms/step - loss: 0.1934 - acc: 0.9277 - val_loss: 0.5542 - val_acc: 0.7780\n",
      "Epoch 5/10\n",
      "51/51 [==============================] - 2s 30ms/step - loss: 0.1461 - acc: 0.9488 - val_loss: 0.6151 - val_acc: 0.7860\n",
      "Epoch 6/10\n",
      "51/51 [==============================] - 2s 40ms/step - loss: 0.1116 - acc: 0.9625 - val_loss: 0.6991 - val_acc: 0.7820\n",
      "Epoch 7/10\n",
      "51/51 [==============================] - 2s 32ms/step - loss: 0.0951 - acc: 0.9688 - val_loss: 0.7944 - val_acc: 0.7630\n",
      "Epoch 8/10\n",
      "51/51 [==============================] - 2s 33ms/step - loss: 0.0804 - acc: 0.9743 - val_loss: 0.8194 - val_acc: 0.7710\n",
      "Epoch 9/10\n",
      "51/51 [==============================] - 2s 34ms/step - loss: 0.0691 - acc: 0.9752 - val_loss: 0.8755 - val_acc: 0.7680\n",
      "Epoch 10/10\n",
      "51/51 [==============================] - 2s 30ms/step - loss: 0.0652 - acc: 0.9755 - val_loss: 0.8808 - val_acc: 0.7750\n"
     ]
    }
   ],
   "source": [
    "history = model.fit(x_train, y_train, epochs=10, batch_size=128, validation_data=(x_val,y_val))"
   ]
  },
  {
   "cell_type": "code",
   "execution_count": 57,
   "metadata": {},
   "outputs": [
    {
     "name": "stdout",
     "output_type": "stream",
     "text": [
      "Classification Report:\n",
      "              precision    recall  f1-score   support\n",
      "\n",
      "           0       0.78      0.85      0.82       590\n",
      "           1       0.76      0.66      0.71       410\n",
      "\n",
      "    accuracy                           0.78      1000\n",
      "   macro avg       0.77      0.76      0.76      1000\n",
      "weighted avg       0.77      0.78      0.77      1000\n",
      "\n",
      "Confusion Matrix:\n",
      "[[504  86]\n",
      " [139 271]]\n",
      "\n",
      "\n",
      "F1 Score:  0.70665\n"
     ]
    },
    {
     "data": {
      "image/png": "[encoded data removed]",
      "text/plain": [
       "<Figure size 432x288 with 1 Axes>"
      ]
     },
     "metadata": {
      "needs_background": "light"
     },
     "output_type": "display_data"
    },
    {
     "data": {
      "image/png": "[encoded data removed]",
      "text/plain": [
       "<Figure size 432x288 with 1 Axes>"
      ]
     },
     "metadata": {
      "needs_background": "light"
     },
     "output_type": "display_data"
    }
   ],
   "source": [
    "evaluate_model(model_history=history)"
   ]
  },
  {
   "cell_type": "markdown",
   "metadata": {},
   "source": [
    "The LSTM model using learned word embeddings is not performing much better than baseline, with an F1 score of 0.70665, and is still overfitting."
   ]
  },
  {
   "cell_type": "markdown",
   "metadata": {},
   "source": [
    "### 6.2 LSTM mode using pretrained word embeddings"
   ]
  },
  {
   "cell_type": "code",
   "execution_count": 58,
   "metadata": {},
   "outputs": [
    {
     "name": "stdout",
     "output_type": "stream",
     "text": [
      "Model: \"sequential_3\"\n",
      "_________________________________________________________________\n",
      "Layer (type)                 Output Shape              Param #   \n",
      "=================================================================\n",
      "embedding_3 (Embedding)      (None, 30, 100)           1000000   \n",
      "_________________________________________________________________\n",
      "lstm_1 (LSTM)                (None, 32)                17024     \n",
      "_________________________________________________________________\n",
      "dense_5 (Dense)              (None, 1)                 33        \n",
      "=================================================================\n",
      "Total params: 1,017,057\n",
      "Trainable params: 1,017,057\n",
      "Non-trainable params: 0\n",
      "_________________________________________________________________\n"
     ]
    }
   ],
   "source": [
    "\n",
    "model = Sequential()\n",
    "model.add(Embedding(max_words, embedding_dim, input_length=maxlen))\n",
    "model.add(LSTM(32))\n",
    "model.add(Dense(1, activation='sigmoid'))\n",
    "model.summary()"
   ]
  },
  {
   "cell_type": "code",
   "execution_count": 59,
   "metadata": {},
   "outputs": [],
   "source": [
    "# freeze the GloVe embeddings\n",
    "model.layers[0].set_weights([embedding_matrix])\n",
    "model.layers[0].trainable = False"
   ]
  },
  {
   "cell_type": "code",
   "execution_count": 60,
   "metadata": {},
   "outputs": [],
   "source": [
    "model.compile(optimizer='adam', \n",
    "              loss='binary_crossentropy', \n",
    "              metrics=['acc'])"
   ]
  },
  {
   "cell_type": "code",
   "execution_count": 61,
   "metadata": {},
   "outputs": [
    {
     "name": "stdout",
     "output_type": "stream",
     "text": [
      "Epoch 1/10\n",
      "51/51 [==============================] - 1s 20ms/step - loss: 0.5644 - acc: 0.7267 - val_loss: 0.5189 - val_acc: 0.7490\n",
      "Epoch 2/10\n",
      "51/51 [==============================] - 1s 12ms/step - loss: 0.4521 - acc: 0.8011 - val_loss: 0.4615 - val_acc: 0.7970\n",
      "Epoch 3/10\n",
      "51/51 [==============================] - 1s 13ms/step - loss: 0.4301 - acc: 0.8144 - val_loss: 0.4590 - val_acc: 0.7900\n",
      "Epoch 4/10\n",
      "51/51 [==============================] - 1s 14ms/step - loss: 0.4130 - acc: 0.8194 - val_loss: 0.4542 - val_acc: 0.8000\n",
      "Epoch 5/10\n",
      "51/51 [==============================] - 1s 15ms/step - loss: 0.4040 - acc: 0.8248 - val_loss: 0.4493 - val_acc: 0.8050\n",
      "Epoch 6/10\n",
      "51/51 [==============================] - 1s 14ms/step - loss: 0.3947 - acc: 0.8285 - val_loss: 0.4469 - val_acc: 0.8040\n",
      "Epoch 7/10\n",
      "51/51 [==============================] - 1s 14ms/step - loss: 0.3893 - acc: 0.8308 - val_loss: 0.4554 - val_acc: 0.8000\n",
      "Epoch 8/10\n",
      "51/51 [==============================] - 1s 15ms/step - loss: 0.3831 - acc: 0.8359 - val_loss: 0.4463 - val_acc: 0.8010\n",
      "Epoch 9/10\n",
      "51/51 [==============================] - 1s 15ms/step - loss: 0.3724 - acc: 0.8396 - val_loss: 0.4465 - val_acc: 0.8100\n",
      "Epoch 10/10\n",
      "51/51 [==============================] - 1s 15ms/step - loss: 0.3652 - acc: 0.8400 - val_loss: 0.4505 - val_acc: 0.7970\n"
     ]
    }
   ],
   "source": [
    "history = model.fit(x_train, y_train, epochs=10, batch_size=128, validation_data=(x_val,y_val))"
   ]
  },
  {
   "cell_type": "code",
   "execution_count": 62,
   "metadata": {},
   "outputs": [
    {
     "name": "stdout",
     "output_type": "stream",
     "text": [
      "Classification Report:\n",
      "              precision    recall  f1-score   support\n",
      "\n",
      "           0       0.81      0.86      0.83       590\n",
      "           1       0.78      0.70      0.74       410\n",
      "\n",
      "    accuracy                           0.80      1000\n",
      "   macro avg       0.79      0.78      0.79      1000\n",
      "weighted avg       0.80      0.80      0.79      1000\n",
      "\n",
      "Confusion Matrix:\n",
      "[[510  80]\n",
      " [123 287]]\n",
      "\n",
      "\n",
      "F1 Score:  0.73874\n"
     ]
    },
    {
     "data": {
      "image/png": "[encoded data removed]",
      "text/plain": [
       "<Figure size 432x288 with 1 Axes>"
      ]
     },
     "metadata": {
      "needs_background": "light"
     },
     "output_type": "display_data"
    },
    {
     "data": {
      "image/png": "[encoded data removed]",
      "text/plain": [
       "<Figure size 432x288 with 1 Axes>"
      ]
     },
     "metadata": {
      "needs_background": "light"
     },
     "output_type": "display_data"
    }
   ],
   "source": [
    "evaluate_model(model_history=history)"
   ]
  },
  {
   "cell_type": "markdown",
   "metadata": {},
   "source": [
    "The LSTM model using pretrained word embeddings has improved over the baseline with an F1 score of 0.73874. In addition,  the model does not begin to overfit until 4 epochs, another improvement over baseline. Since an LSTM model using pretrained word embeddings appears to be more resistant to overfitting, it will be the basis for further development."
   ]
  },
  {
   "cell_type": "markdown",
   "metadata": {},
   "source": [
    "## 7. Adding regularization and tuning hyperparameters\n",
    "\n",
    "To improve the F1 score of the LSTM model using pretrained word embeddings from Section 6.2, several experiments were conducted that varied the following parameters:\n",
    "\n",
    "* Number of LSTM units (32 vs 64)\n",
    "* Adding a second LSTM layer (with 32 or 64 layers)\n",
    "* Adding recurrent dropout\n",
    "* Adding L2 regularization\n",
    "* Increasing the number of training epochs (20, 30 and 50)\n",
    "\n",
    "After varying the parameters listed above, a final model configuration was reached.\n",
    "\n",
    "### 7.1 Final model configuration\n",
    "\n",
    "The code below illustrates the optimum model that has been found, with a goal of maximizing the F1 score while reducing overfitting.\n"
   ]
  },
  {
   "cell_type": "code",
   "execution_count": 63,
   "metadata": {},
   "outputs": [
    {
     "name": "stdout",
     "output_type": "stream",
     "text": [
      "Model: \"sequential_4\"\n",
      "_________________________________________________________________\n",
      "Layer (type)                 Output Shape              Param #   \n",
      "=================================================================\n",
      "embedding_4 (Embedding)      (None, 30, 100)           1000000   \n",
      "_________________________________________________________________\n",
      "lstm_2 (LSTM)                (None, 64)                42240     \n",
      "_________________________________________________________________\n",
      "dense_6 (Dense)              (None, 1)                 65        \n",
      "=================================================================\n",
      "Total params: 1,042,305\n",
      "Trainable params: 1,042,305\n",
      "Non-trainable params: 0\n",
      "_________________________________________________________________\n"
     ]
    }
   ],
   "source": [
    "from keras import regularizers\n",
    "\n",
    "model = Sequential()\n",
    "model.add(Embedding(max_words, embedding_dim, input_length=maxlen))\n",
    "model.add(LSTM(64, dropout=0.5, recurrent_dropout=0.5, kernel_regularizer=regularizers.l2(0.001)))\n",
    "model.add(Dense(1, activation='sigmoid'))\n",
    "model.summary()"
   ]
  },
  {
   "cell_type": "code",
   "execution_count": 64,
   "metadata": {},
   "outputs": [],
   "source": [
    "# freeze the GloVe embeddings\n",
    "model.layers[0].set_weights([embedding_matrix])\n",
    "model.layers[0].trainable = False"
   ]
  },
  {
   "cell_type": "code",
   "execution_count": 65,
   "metadata": {},
   "outputs": [],
   "source": [
    "model.compile(optimizer='adam', \n",
    "              loss='binary_crossentropy', \n",
    "              metrics=['acc'])"
   ]
  },
  {
   "cell_type": "code",
   "execution_count": 66,
   "metadata": {
    "scrolled": false
   },
   "outputs": [
    {
     "name": "stdout",
     "output_type": "stream",
     "text": [
      "Epoch 1/30\n",
      "51/51 [==============================] - 3s 61ms/step - loss: 0.6941 - acc: 0.6984 - val_loss: 0.6031 - val_acc: 0.7640\n",
      "Epoch 2/30\n",
      "51/51 [==============================] - 3s 60ms/step - loss: 0.5578 - acc: 0.7801 - val_loss: 0.5387 - val_acc: 0.7930\n",
      "Epoch 3/30\n",
      "51/51 [==============================] - 3s 61ms/step - loss: 0.5317 - acc: 0.7887 - val_loss: 0.5106 - val_acc: 0.7930\n",
      "Epoch 4/30\n",
      "51/51 [==============================] - 3s 56ms/step - loss: 0.5133 - acc: 0.7870 - val_loss: 0.5082 - val_acc: 0.7970\n",
      "Epoch 5/30\n",
      "51/51 [==============================] - 3s 59ms/step - loss: 0.4981 - acc: 0.7971 - val_loss: 0.5110 - val_acc: 0.7990\n",
      "Epoch 6/30\n",
      "51/51 [==============================] - 3s 64ms/step - loss: 0.4998 - acc: 0.7868 - val_loss: 0.4965 - val_acc: 0.8010\n",
      "Epoch 7/30\n",
      "51/51 [==============================] - 3s 60ms/step - loss: 0.4911 - acc: 0.7979 - val_loss: 0.4907 - val_acc: 0.8020\n",
      "Epoch 8/30\n",
      "51/51 [==============================] - 3s 59ms/step - loss: 0.4788 - acc: 0.7961 - val_loss: 0.4905 - val_acc: 0.7900\n",
      "Epoch 9/30\n",
      "51/51 [==============================] - 3s 58ms/step - loss: 0.4797 - acc: 0.7985 - val_loss: 0.4835 - val_acc: 0.7990\n",
      "Epoch 10/30\n",
      "51/51 [==============================] - 3s 60ms/step - loss: 0.4733 - acc: 0.8024 - val_loss: 0.4864 - val_acc: 0.7950\n",
      "Epoch 11/30\n",
      "51/51 [==============================] - 3s 63ms/step - loss: 0.4685 - acc: 0.8030 - val_loss: 0.4790 - val_acc: 0.7960\n",
      "Epoch 12/30\n",
      "51/51 [==============================] - 3s 59ms/step - loss: 0.4664 - acc: 0.8034 - val_loss: 0.4722 - val_acc: 0.8020\n",
      "Epoch 13/30\n",
      "51/51 [==============================] - 3s 58ms/step - loss: 0.4616 - acc: 0.8033 - val_loss: 0.4733 - val_acc: 0.8060\n",
      "Epoch 14/30\n",
      "51/51 [==============================] - 3s 64ms/step - loss: 0.4656 - acc: 0.8051 - val_loss: 0.4741 - val_acc: 0.8060\n",
      "Epoch 15/30\n",
      "51/51 [==============================] - 4s 75ms/step - loss: 0.4565 - acc: 0.8079 - val_loss: 0.4686 - val_acc: 0.8030\n",
      "Epoch 16/30\n",
      "51/51 [==============================] - 4s 74ms/step - loss: 0.4609 - acc: 0.8053 - val_loss: 0.4665 - val_acc: 0.8060\n",
      "Epoch 17/30\n",
      "51/51 [==============================] - 4s 84ms/step - loss: 0.4571 - acc: 0.8114 - val_loss: 0.4736 - val_acc: 0.8000\n",
      "Epoch 18/30\n",
      "51/51 [==============================] - 4s 77ms/step - loss: 0.4552 - acc: 0.8050 - val_loss: 0.4655 - val_acc: 0.8090\n",
      "Epoch 19/30\n",
      "51/51 [==============================] - 4s 80ms/step - loss: 0.4536 - acc: 0.8091 - val_loss: 0.4708 - val_acc: 0.8070\n",
      "Epoch 20/30\n",
      "51/51 [==============================] - 4s 79ms/step - loss: 0.4540 - acc: 0.8130 - val_loss: 0.4719 - val_acc: 0.8120\n",
      "Epoch 21/30\n",
      "51/51 [==============================] - 4s 69ms/step - loss: 0.4545 - acc: 0.8050 - val_loss: 0.4922 - val_acc: 0.7810\n",
      "Epoch 22/30\n",
      "51/51 [==============================] - 4s 71ms/step - loss: 0.4529 - acc: 0.8084 - val_loss: 0.4750 - val_acc: 0.7920\n",
      "Epoch 23/30\n",
      "51/51 [==============================] - 4s 76ms/step - loss: 0.4459 - acc: 0.8122 - val_loss: 0.4705 - val_acc: 0.8110\n",
      "Epoch 24/30\n",
      "51/51 [==============================] - 4s 74ms/step - loss: 0.4447 - acc: 0.8133 - val_loss: 0.4803 - val_acc: 0.8050\n",
      "Epoch 25/30\n",
      "51/51 [==============================] - 4s 70ms/step - loss: 0.4449 - acc: 0.8136 - val_loss: 0.4658 - val_acc: 0.8100\n",
      "Epoch 26/30\n",
      "51/51 [==============================] - 3s 68ms/step - loss: 0.4476 - acc: 0.8104 - val_loss: 0.4653 - val_acc: 0.8040\n",
      "Epoch 27/30\n",
      "51/51 [==============================] - 4s 69ms/step - loss: 0.4484 - acc: 0.8085 - val_loss: 0.4743 - val_acc: 0.8040\n",
      "Epoch 28/30\n",
      "51/51 [==============================] - 4s 74ms/step - loss: 0.4446 - acc: 0.8128 - val_loss: 0.4807 - val_acc: 0.7950\n",
      "Epoch 29/30\n",
      "51/51 [==============================] - 4s 73ms/step - loss: 0.4452 - acc: 0.8096 - val_loss: 0.4787 - val_acc: 0.8030\n",
      "Epoch 30/30\n",
      "51/51 [==============================] - 4s 69ms/step - loss: 0.4383 - acc: 0.8173 - val_loss: 0.4717 - val_acc: 0.8050\n"
     ]
    }
   ],
   "source": [
    "history = model.fit(x_train, y_train, epochs=30, batch_size=128, validation_data=(x_val,y_val))"
   ]
  },
  {
   "cell_type": "code",
   "execution_count": 67,
   "metadata": {},
   "outputs": [
    {
     "name": "stdout",
     "output_type": "stream",
     "text": [
      "Classification Report:\n",
      "              precision    recall  f1-score   support\n",
      "\n",
      "           0       0.80      0.90      0.85       590\n",
      "           1       0.82      0.67      0.74       410\n",
      "\n",
      "    accuracy                           0.81      1000\n",
      "   macro avg       0.81      0.78      0.79      1000\n",
      "weighted avg       0.81      0.81      0.80      1000\n",
      "\n",
      "Confusion Matrix:\n",
      "[[532  58]\n",
      " [137 273]]\n",
      "\n",
      "\n",
      "F1 Score:  0.73684\n"
     ]
    },
    {
     "data": {
      "image/png": "[encoded data removed]",
      "text/plain": [
       "<Figure size 432x288 with 1 Axes>"
      ]
     },
     "metadata": {
      "needs_background": "light"
     },
     "output_type": "display_data"
    },
    {
     "data": {
      "image/png": "[encoded data removed]",
      "text/plain": [
       "<Figure size 432x288 with 1 Axes>"
      ]
     },
     "metadata": {
      "needs_background": "light"
     },
     "output_type": "display_data"
    }
   ],
   "source": [
    "evaluate_model(model_history=history)"
   ]
  },
  {
   "cell_type": "markdown",
   "metadata": {},
   "source": [
    "The performance of the final model configuration is similar to the baseline models, with an F1 score of 0.73684. The final model appears to resist overfitting for most of the training epochs; the validation loss and accuracy start to plateau after about 20 epochs. It is hoped that the final model, although not having improvements in F1 score over the baseline, will still generalize well to the test dataset.\n",
    "\n",
    "If an LSTM layer is well suited to this problem, then perhaps the performance acheived here is approaching the maximum possible. Otherwise, other model structures should be investigated to see if further improvements to the F1 score can be made."
   ]
  },
  {
   "cell_type": "markdown",
   "metadata": {},
   "source": [
    "### 7.2 Training final model configuration on the complete training data set\n",
    "\n",
    "The following code shows how the final model configuration is re-trained on the complete training data set."
   ]
  },
  {
   "cell_type": "code",
   "execution_count": 68,
   "metadata": {},
   "outputs": [
    {
     "name": "stdout",
     "output_type": "stream",
     "text": [
      "Complete training sequences size:  (7502, 30)\n",
      "Complete training labels size:  (7502,)\n"
     ]
    }
   ],
   "source": [
    "x_train_full = padded_sequences\n",
    "y_train_full = train_labels\n",
    "\n",
    "print('Complete training sequences size: ', x_train_full.shape)\n",
    "print('Complete training labels size: ', y_train_full.shape)"
   ]
  },
  {
   "cell_type": "code",
   "execution_count": 69,
   "metadata": {},
   "outputs": [
    {
     "name": "stdout",
     "output_type": "stream",
     "text": [
      "Epoch 1/30\n",
      "59/59 [==============================] - 4s 69ms/step - loss: 0.4461 - acc: 0.8140\n",
      "Epoch 2/30\n",
      "59/59 [==============================] - 4s 73ms/step - loss: 0.4504 - acc: 0.8106\n",
      "Epoch 3/30\n",
      "59/59 [==============================] - 4s 66ms/step - loss: 0.4402 - acc: 0.8170\n",
      "Epoch 4/30\n",
      "59/59 [==============================] - 4s 65ms/step - loss: 0.4464 - acc: 0.8144\n",
      "Epoch 5/30\n",
      "59/59 [==============================] - 4s 66ms/step - loss: 0.4374 - acc: 0.8183\n",
      "Epoch 6/30\n",
      "59/59 [==============================] - 4s 72ms/step - loss: 0.4434 - acc: 0.8158\n",
      "Epoch 7/30\n",
      "59/59 [==============================] - 4s 67ms/step - loss: 0.4396 - acc: 0.8152\n",
      "Epoch 8/30\n",
      "59/59 [==============================] - 4s 67ms/step - loss: 0.4354 - acc: 0.8186\n",
      "Epoch 9/30\n",
      "59/59 [==============================] - 4s 70ms/step - loss: 0.4326 - acc: 0.8202\n",
      "Epoch 10/30\n",
      "59/59 [==============================] - 4s 71ms/step - loss: 0.4430 - acc: 0.8146\n",
      "Epoch 11/30\n",
      "59/59 [==============================] - 4s 67ms/step - loss: 0.4359 - acc: 0.8152\n",
      "Epoch 12/30\n",
      "59/59 [==============================] - 4s 71ms/step - loss: 0.4377 - acc: 0.8167\n",
      "Epoch 13/30\n",
      "59/59 [==============================] - 4s 75ms/step - loss: 0.4333 - acc: 0.8190\n",
      "Epoch 14/30\n",
      "59/59 [==============================] - 4s 72ms/step - loss: 0.4329 - acc: 0.8218\n",
      "Epoch 15/30\n",
      "59/59 [==============================] - 4s 65ms/step - loss: 0.4342 - acc: 0.8168\n",
      "Epoch 16/30\n",
      "59/59 [==============================] - 4s 65ms/step - loss: 0.4325 - acc: 0.8211\n",
      "Epoch 17/30\n",
      "59/59 [==============================] - 4s 68ms/step - loss: 0.4310 - acc: 0.8192\n",
      "Epoch 18/30\n",
      "59/59 [==============================] - 4s 72ms/step - loss: 0.4323 - acc: 0.8267\n",
      "Epoch 19/30\n",
      "59/59 [==============================] - 4s 66ms/step - loss: 0.4343 - acc: 0.8160\n",
      "Epoch 20/30\n",
      "59/59 [==============================] - 4s 65ms/step - loss: 0.4271 - acc: 0.8236\n",
      "Epoch 21/30\n",
      "59/59 [==============================] - 4s 71ms/step - loss: 0.4289 - acc: 0.8227\n",
      "Epoch 22/30\n",
      "59/59 [==============================] - 4s 70ms/step - loss: 0.4251 - acc: 0.8270\n",
      "Epoch 23/30\n",
      "59/59 [==============================] - 4s 65ms/step - loss: 0.4259 - acc: 0.8223\n",
      "Epoch 24/30\n",
      "59/59 [==============================] - 4s 65ms/step - loss: 0.4202 - acc: 0.8250\n",
      "Epoch 25/30\n",
      "59/59 [==============================] - 4s 72ms/step - loss: 0.4272 - acc: 0.8220\n",
      "Epoch 26/30\n",
      "59/59 [==============================] - 4s 66ms/step - loss: 0.4216 - acc: 0.8242\n",
      "Epoch 27/30\n",
      "59/59 [==============================] - 4s 65ms/step - loss: 0.4196 - acc: 0.8271\n",
      "Epoch 28/30\n",
      "59/59 [==============================] - 4s 66ms/step - loss: 0.4230 - acc: 0.8259\n",
      "Epoch 29/30\n",
      "59/59 [==============================] - 4s 76ms/step - loss: 0.4281 - acc: 0.8224: 1s - loss: \n",
      "Epoch 30/30\n",
      "59/59 [==============================] - 5s 81ms/step - loss: 0.4245 - acc: 0.8255\n"
     ]
    }
   ],
   "source": [
    "history_full = model.fit(x_train_full, y_train_full, epochs=30, batch_size=128)"
   ]
  },
  {
   "cell_type": "markdown",
   "metadata": {},
   "source": [
    "### 7.3 Generating predictions and a submission file\n",
    "\n",
    "Once the final model is retrained on the complete training set, predictions are made on the test set. A submission file is generated that is sent to Kaggle for scoring."
   ]
  },
  {
   "cell_type": "code",
   "execution_count": 70,
   "metadata": {},
   "outputs": [
    {
     "data": {
      "text/plain": [
       "array([[0.54284495],\n",
       "       [0.818486  ],\n",
       "       [0.7005893 ],\n",
       "       ...,\n",
       "       [0.6982952 ],\n",
       "       [0.79482883],\n",
       "       [0.50136065]], dtype=float32)"
      ]
     },
     "execution_count": 70,
     "metadata": {},
     "output_type": "execute_result"
    }
   ],
   "source": [
    "predictions = model.predict(x_test)\n",
    "predictions"
   ]
  },
  {
   "cell_type": "code",
   "execution_count": 71,
   "metadata": {},
   "outputs": [
    {
     "name": "stdout",
     "output_type": "stream",
     "text": [
      "Shape of predictions array: (3263, 1)\n"
     ]
    }
   ],
   "source": [
    "print('Shape of predictions array:' , predictions.shape)"
   ]
  },
  {
   "cell_type": "code",
   "execution_count": 72,
   "metadata": {},
   "outputs": [],
   "source": [
    "def predict_to_binary_class(predictions):\n",
    "    \n",
    "    threshold = 0.5\n",
    "    predictions_classes = np.zeros((predictions.shape[0]))\n",
    "    for i in range(0,len(predictions)):\n",
    "        if predictions[i] >= 0.5:\n",
    "            predictions_classes[i] = 1\n",
    "        else:\n",
    "            predictions_classes[i] = 0\n",
    "    \n",
    "    predictions_classes = predictions_classes.astype('int')\n",
    "    return predictions_classes\n",
    "\n",
    "predictions_classes = predict_to_binary_class(predictions)"
   ]
  },
  {
   "cell_type": "code",
   "execution_count": 73,
   "metadata": {},
   "outputs": [],
   "source": [
    "predictions_id = test_tweets.index.values"
   ]
  },
  {
   "cell_type": "code",
   "execution_count": 74,
   "metadata": {},
   "outputs": [
    {
     "data": {
      "text/html": [
       "<div>\n",
       "<style scoped>\n",
       "    .dataframe tbody tr th:only-of-type {\n",
       "        vertical-align: middle;\n",
       "    }\n",
       "\n",
       "    .dataframe tbody tr th {\n",
       "        vertical-align: top;\n",
       "    }\n",
       "\n",
       "    .dataframe thead th {\n",
       "        text-align: right;\n",
       "    }\n",
       "</style>\n",
       "<table border=\"1\" class=\"dataframe\">\n",
       "  <thead>\n",
       "    <tr style=\"text-align: right;\">\n",
       "      <th></th>\n",
       "      <th>id</th>\n",
       "      <th>target</th>\n",
       "    </tr>\n",
       "  </thead>\n",
       "  <tbody>\n",
       "    <tr>\n",
       "      <th>0</th>\n",
       "      <td>0</td>\n",
       "      <td>1</td>\n",
       "    </tr>\n",
       "    <tr>\n",
       "      <th>1</th>\n",
       "      <td>2</td>\n",
       "      <td>1</td>\n",
       "    </tr>\n",
       "    <tr>\n",
       "      <th>2</th>\n",
       "      <td>3</td>\n",
       "      <td>1</td>\n",
       "    </tr>\n",
       "    <tr>\n",
       "      <th>3</th>\n",
       "      <td>9</td>\n",
       "      <td>1</td>\n",
       "    </tr>\n",
       "    <tr>\n",
       "      <th>4</th>\n",
       "      <td>11</td>\n",
       "      <td>1</td>\n",
       "    </tr>\n",
       "    <tr>\n",
       "      <th>...</th>\n",
       "      <td>...</td>\n",
       "      <td>...</td>\n",
       "    </tr>\n",
       "    <tr>\n",
       "      <th>3258</th>\n",
       "      <td>10861</td>\n",
       "      <td>1</td>\n",
       "    </tr>\n",
       "    <tr>\n",
       "      <th>3259</th>\n",
       "      <td>10865</td>\n",
       "      <td>1</td>\n",
       "    </tr>\n",
       "    <tr>\n",
       "      <th>3260</th>\n",
       "      <td>10868</td>\n",
       "      <td>1</td>\n",
       "    </tr>\n",
       "    <tr>\n",
       "      <th>3261</th>\n",
       "      <td>10874</td>\n",
       "      <td>1</td>\n",
       "    </tr>\n",
       "    <tr>\n",
       "      <th>3262</th>\n",
       "      <td>10875</td>\n",
       "      <td>1</td>\n",
       "    </tr>\n",
       "  </tbody>\n",
       "</table>\n",
       "<p>3263 rows × 2 columns</p>\n",
       "</div>"
      ],
      "text/plain": [
       "         id  target\n",
       "0         0       1\n",
       "1         2       1\n",
       "2         3       1\n",
       "3         9       1\n",
       "4        11       1\n",
       "...     ...     ...\n",
       "3258  10861       1\n",
       "3259  10865       1\n",
       "3260  10868       1\n",
       "3261  10874       1\n",
       "3262  10875       1\n",
       "\n",
       "[3263 rows x 2 columns]"
      ]
     },
     "execution_count": 74,
     "metadata": {},
     "output_type": "execute_result"
    }
   ],
   "source": [
    "predictions_df = pd.DataFrame({'id': predictions_id, 'target': predictions_classes})\n",
    "predictions_df"
   ]
  },
  {
   "cell_type": "code",
   "execution_count": 75,
   "metadata": {},
   "outputs": [],
   "source": [
    "predictions_df.to_csv('submission2.csv', index=False)"
   ]
  },
  {
   "cell_type": "markdown",
   "metadata": {},
   "source": [
    "After submitting predictions on the test set to Kaggle for scoring, the F1 score of the final model configuration is 0.80937, which is a 16% improvement over the baseline model that used learned word embeddings. The extra effort to reduce overfitting in the final model resulted in a model that generalized well to the unseen data in the test set."
   ]
  },
  {
   "cell_type": "markdown",
   "metadata": {},
   "source": [
    "##  8. Conclusion"
   ]
  },
  {
   "cell_type": "markdown",
   "metadata": {},
   "source": [
    "To classify whether tweets are about real natural disasters or not, a recurrent neural network has been developed using a LSTM hidden layer and pretrained GloVe embeddings and includes both dropout and L2 regularization. Predictions on the test dataset have been submitted to Kaggle and received an F1 score of 0.80937."
   ]
  },
  {
   "cell_type": "markdown",
   "metadata": {},
   "source": [
    "## 9. References\n",
    "\n",
    "Portions of the code in Section 4.3 and Section 5 of this notebook have been adapted from the following source:\n",
    "\n",
    "F. Chollet, \"Working with text data\" in Deep Learning with Python, 1st ed., Manning, 2018, pp. 180-195."
   ]
  }
 ],
 "metadata": {
  "kernelspec": {
   "display_name": "Python 3",
   "language": "python",
   "name": "python3"
  },
  "language_info": {
   "codemirror_mode": {
    "name": "ipython",
    "version": 3
   },
   "file_extension": ".py",
   "mimetype": "text/x-python",
   "name": "python",
   "nbconvert_exporter": "python",
   "pygments_lexer": "ipython3",
   "version": "3.7.6"
  }
 },
 "nbformat": 4,
 "nbformat_minor": 4
}
